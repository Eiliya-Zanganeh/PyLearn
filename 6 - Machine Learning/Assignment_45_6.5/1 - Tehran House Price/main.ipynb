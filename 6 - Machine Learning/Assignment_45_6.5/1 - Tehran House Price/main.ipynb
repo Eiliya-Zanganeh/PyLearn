{
 "cells": [
  {
   "cell_type": "code",
   "execution_count": 1,
   "id": "initial_id",
   "metadata": {
    "collapsed": true,
    "ExecuteTime": {
     "end_time": "2025-02-02T18:59:45.705932900Z",
     "start_time": "2025-02-02T18:59:45.179817100Z"
    }
   },
   "outputs": [],
   "source": [
    "import pandas as pd"
   ]
  },
  {
   "cell_type": "code",
   "outputs": [],
   "source": [
    "df = pd.read_csv('housePrice.csv')"
   ],
   "metadata": {
    "collapsed": false,
    "ExecuteTime": {
     "end_time": "2025-02-02T18:59:45.706933Z",
     "start_time": "2025-02-02T18:59:45.691933500Z"
    }
   },
   "id": "6d595d4fd0e24512",
   "execution_count": 2
  },
  {
   "cell_type": "code",
   "outputs": [
    {
     "data": {
      "text/plain": "   Area  Room  Parking  Warehouse  Elevator         Address         Price  \\\n0    63     1     True       True      True         Shahran  1.850000e+09   \n1    60     1     True       True      True         Shahran  1.850000e+09   \n2    79     2     True       True      True          Pardis  5.500000e+08   \n3    95     2     True       True      True   Shahrake Qods  9.025000e+08   \n4   123     2     True       True      True  Shahrake Gharb  7.000000e+09   \n\n   Price(USD)  \n0    61666.67  \n1    61666.67  \n2    18333.33  \n3    30083.33  \n4   233333.33  ",
      "text/html": "<div>\n<style scoped>\n    .dataframe tbody tr th:only-of-type {\n        vertical-align: middle;\n    }\n\n    .dataframe tbody tr th {\n        vertical-align: top;\n    }\n\n    .dataframe thead th {\n        text-align: right;\n    }\n</style>\n<table border=\"1\" class=\"dataframe\">\n  <thead>\n    <tr style=\"text-align: right;\">\n      <th></th>\n      <th>Area</th>\n      <th>Room</th>\n      <th>Parking</th>\n      <th>Warehouse</th>\n      <th>Elevator</th>\n      <th>Address</th>\n      <th>Price</th>\n      <th>Price(USD)</th>\n    </tr>\n  </thead>\n  <tbody>\n    <tr>\n      <th>0</th>\n      <td>63</td>\n      <td>1</td>\n      <td>True</td>\n      <td>True</td>\n      <td>True</td>\n      <td>Shahran</td>\n      <td>1.850000e+09</td>\n      <td>61666.67</td>\n    </tr>\n    <tr>\n      <th>1</th>\n      <td>60</td>\n      <td>1</td>\n      <td>True</td>\n      <td>True</td>\n      <td>True</td>\n      <td>Shahran</td>\n      <td>1.850000e+09</td>\n      <td>61666.67</td>\n    </tr>\n    <tr>\n      <th>2</th>\n      <td>79</td>\n      <td>2</td>\n      <td>True</td>\n      <td>True</td>\n      <td>True</td>\n      <td>Pardis</td>\n      <td>5.500000e+08</td>\n      <td>18333.33</td>\n    </tr>\n    <tr>\n      <th>3</th>\n      <td>95</td>\n      <td>2</td>\n      <td>True</td>\n      <td>True</td>\n      <td>True</td>\n      <td>Shahrake Qods</td>\n      <td>9.025000e+08</td>\n      <td>30083.33</td>\n    </tr>\n    <tr>\n      <th>4</th>\n      <td>123</td>\n      <td>2</td>\n      <td>True</td>\n      <td>True</td>\n      <td>True</td>\n      <td>Shahrake Gharb</td>\n      <td>7.000000e+09</td>\n      <td>233333.33</td>\n    </tr>\n  </tbody>\n</table>\n</div>"
     },
     "execution_count": 3,
     "metadata": {},
     "output_type": "execute_result"
    }
   ],
   "source": [
    "df.head()"
   ],
   "metadata": {
    "collapsed": false,
    "ExecuteTime": {
     "end_time": "2025-02-02T18:59:45.787933900Z",
     "start_time": "2025-02-02T18:59:45.707932900Z"
    }
   },
   "id": "a5c9dcbe16df4a5d",
   "execution_count": 3
  },
  {
   "cell_type": "code",
   "outputs": [],
   "source": [
    "df['Price'] = df['Price(USD)'] * 84000"
   ],
   "metadata": {
    "collapsed": false,
    "ExecuteTime": {
     "end_time": "2025-02-02T18:59:45.787933900Z",
     "start_time": "2025-02-02T18:59:45.738932Z"
    }
   },
   "id": "21f7e1e48c13a915",
   "execution_count": 4
  },
  {
   "cell_type": "code",
   "outputs": [
    {
     "data": {
      "text/plain": "   Area  Room  Parking  Warehouse  Elevator     Address         Price  \\\n0   420     4     True       True      True  Zaferanieh  2.587200e+11   \n1   705     5     True       True     False      Abazar  2.548000e+11   \n2   400     5     True       True     False     Lavasan  2.380000e+11   \n3   680     5     True       True     False  Ekhtiarieh  2.284800e+11   \n4   350     4     True       True      True    Niavaran  2.254000e+11   \n\n   Price(USD)  \n0  3080000.00  \n1  3033333.33  \n2  2833333.33  \n3  2720000.00  \n4  2683333.33  ",
      "text/html": "<div>\n<style scoped>\n    .dataframe tbody tr th:only-of-type {\n        vertical-align: middle;\n    }\n\n    .dataframe tbody tr th {\n        vertical-align: top;\n    }\n\n    .dataframe thead th {\n        text-align: right;\n    }\n</style>\n<table border=\"1\" class=\"dataframe\">\n  <thead>\n    <tr style=\"text-align: right;\">\n      <th></th>\n      <th>Area</th>\n      <th>Room</th>\n      <th>Parking</th>\n      <th>Warehouse</th>\n      <th>Elevator</th>\n      <th>Address</th>\n      <th>Price</th>\n      <th>Price(USD)</th>\n    </tr>\n  </thead>\n  <tbody>\n    <tr>\n      <th>0</th>\n      <td>420</td>\n      <td>4</td>\n      <td>True</td>\n      <td>True</td>\n      <td>True</td>\n      <td>Zaferanieh</td>\n      <td>2.587200e+11</td>\n      <td>3080000.00</td>\n    </tr>\n    <tr>\n      <th>1</th>\n      <td>705</td>\n      <td>5</td>\n      <td>True</td>\n      <td>True</td>\n      <td>False</td>\n      <td>Abazar</td>\n      <td>2.548000e+11</td>\n      <td>3033333.33</td>\n    </tr>\n    <tr>\n      <th>2</th>\n      <td>400</td>\n      <td>5</td>\n      <td>True</td>\n      <td>True</td>\n      <td>False</td>\n      <td>Lavasan</td>\n      <td>2.380000e+11</td>\n      <td>2833333.33</td>\n    </tr>\n    <tr>\n      <th>3</th>\n      <td>680</td>\n      <td>5</td>\n      <td>True</td>\n      <td>True</td>\n      <td>False</td>\n      <td>Ekhtiarieh</td>\n      <td>2.284800e+11</td>\n      <td>2720000.00</td>\n    </tr>\n    <tr>\n      <th>4</th>\n      <td>350</td>\n      <td>4</td>\n      <td>True</td>\n      <td>True</td>\n      <td>True</td>\n      <td>Niavaran</td>\n      <td>2.254000e+11</td>\n      <td>2683333.33</td>\n    </tr>\n  </tbody>\n</table>\n</div>"
     },
     "execution_count": 25,
     "metadata": {},
     "output_type": "execute_result"
    }
   ],
   "source": [
    "df = df.sort_values(by=['Price'], ascending=False).reset_index(drop=True)\n",
    "df.head()"
   ],
   "metadata": {
    "collapsed": false,
    "ExecuteTime": {
     "end_time": "2025-02-02T18:16:21.555426900Z",
     "start_time": "2025-02-02T18:16:21.507469100Z"
    }
   },
   "id": "8f74ff9956317f67",
   "execution_count": 25
  },
  {
   "cell_type": "code",
   "outputs": [
    {
     "data": {
      "text/plain": "0    Zaferanieh\n1        Abazar\n2       Lavasan\n3    Ekhtiarieh\n4      Niavaran\nName: Address, dtype: object"
     },
     "execution_count": 26,
     "metadata": {},
     "output_type": "execute_result"
    }
   ],
   "source": [
    "addresses = df['Address']\n",
    "addresses = addresses[:5]\n",
    "addresses"
   ],
   "metadata": {
    "collapsed": false,
    "ExecuteTime": {
     "end_time": "2025-02-02T18:16:22.029425700Z",
     "start_time": "2025-02-02T18:16:21.960432500Z"
    }
   },
   "id": "c57ab298bcbe5a3d",
   "execution_count": 26
  },
  {
   "cell_type": "code",
   "outputs": [],
   "source": [
    "from sklearn.preprocessing import LabelEncoder\n",
    "\n",
    "encoder = LabelEncoder()\n",
    "df['Address'] = encoder.fit_transform(df['Address'])\n",
    "\n",
    "df['Parking'] = df['Parking'].astype(bool)\n",
    "df['Warehouse'] = df['Warehouse'].astype(bool)\n",
    "df['Elevator'] = df['Elevator'].astype(bool)\n",
    "\n",
    "df['Price'] = df['Price'].astype(str).str.strip().replace(',', '').astype(float)"
   ],
   "metadata": {
    "collapsed": false,
    "ExecuteTime": {
     "end_time": "2025-02-02T18:16:22.513949800Z",
     "start_time": "2025-02-02T18:16:22.449946Z"
    }
   },
   "id": "139404c675e4990b",
   "execution_count": 27
  },
  {
   "cell_type": "code",
   "outputs": [
    {
     "data": {
      "text/plain": "   Area  Room  Parking  Warehouse  Elevator  Address         Price  Price(USD)\n0   420     4     True       True      True      189  2.587200e+11  3080000.00\n1   705     5     True       True     False        0  2.548000e+11  3033333.33\n2   400     5     True       True     False       87  2.380000e+11  2833333.33\n3   680     5     True       True     False       43  2.284800e+11  2720000.00\n4   350     4     True       True      True      105  2.254000e+11  2683333.33",
      "text/html": "<div>\n<style scoped>\n    .dataframe tbody tr th:only-of-type {\n        vertical-align: middle;\n    }\n\n    .dataframe tbody tr th {\n        vertical-align: top;\n    }\n\n    .dataframe thead th {\n        text-align: right;\n    }\n</style>\n<table border=\"1\" class=\"dataframe\">\n  <thead>\n    <tr style=\"text-align: right;\">\n      <th></th>\n      <th>Area</th>\n      <th>Room</th>\n      <th>Parking</th>\n      <th>Warehouse</th>\n      <th>Elevator</th>\n      <th>Address</th>\n      <th>Price</th>\n      <th>Price(USD)</th>\n    </tr>\n  </thead>\n  <tbody>\n    <tr>\n      <th>0</th>\n      <td>420</td>\n      <td>4</td>\n      <td>True</td>\n      <td>True</td>\n      <td>True</td>\n      <td>189</td>\n      <td>2.587200e+11</td>\n      <td>3080000.00</td>\n    </tr>\n    <tr>\n      <th>1</th>\n      <td>705</td>\n      <td>5</td>\n      <td>True</td>\n      <td>True</td>\n      <td>False</td>\n      <td>0</td>\n      <td>2.548000e+11</td>\n      <td>3033333.33</td>\n    </tr>\n    <tr>\n      <th>2</th>\n      <td>400</td>\n      <td>5</td>\n      <td>True</td>\n      <td>True</td>\n      <td>False</td>\n      <td>87</td>\n      <td>2.380000e+11</td>\n      <td>2833333.33</td>\n    </tr>\n    <tr>\n      <th>3</th>\n      <td>680</td>\n      <td>5</td>\n      <td>True</td>\n      <td>True</td>\n      <td>False</td>\n      <td>43</td>\n      <td>2.284800e+11</td>\n      <td>2720000.00</td>\n    </tr>\n    <tr>\n      <th>4</th>\n      <td>350</td>\n      <td>4</td>\n      <td>True</td>\n      <td>True</td>\n      <td>True</td>\n      <td>105</td>\n      <td>2.254000e+11</td>\n      <td>2683333.33</td>\n    </tr>\n  </tbody>\n</table>\n</div>"
     },
     "execution_count": 28,
     "metadata": {},
     "output_type": "execute_result"
    }
   ],
   "source": [
    "df.head()"
   ],
   "metadata": {
    "collapsed": false,
    "ExecuteTime": {
     "end_time": "2025-02-02T18:16:23.110485900Z",
     "start_time": "2025-02-02T18:16:23.072597900Z"
    }
   },
   "id": "3cb2c2ae8bbd9818",
   "execution_count": 28
  },
  {
   "cell_type": "code",
   "outputs": [],
   "source": [
    "from train_test_split import train_test_split\n",
    "\n",
    "X_train, X_test, y_train, y_test = train_test_split(\n",
    "    df.iloc[:, :6].to_numpy(), df.iloc[:, 6].to_numpy(), shuffle=True, random_state=42\n",
    ")"
   ],
   "metadata": {
    "collapsed": false,
    "ExecuteTime": {
     "end_time": "2025-02-02T18:16:23.623588200Z",
     "start_time": "2025-02-02T18:16:23.552589100Z"
    }
   },
   "id": "3018c74f23de2579",
   "execution_count": 29
  },
  {
   "cell_type": "code",
   "outputs": [],
   "source": [
    "X_train, X_test = X_train.astype(float), X_test.astype(float)\n",
    "y_train, y_test = y_train.astype(float), y_test.astype(float)"
   ],
   "metadata": {
    "collapsed": false,
    "ExecuteTime": {
     "end_time": "2025-02-02T18:16:24.316106900Z",
     "start_time": "2025-02-02T18:16:24.277108900Z"
    }
   },
   "id": "f938f0aa665d91d",
   "execution_count": 30
  },
  {
   "cell_type": "code",
   "outputs": [
    {
     "name": "stdout",
     "output_type": "stream",
     "text": [
      "RMSE: 16680784001.404161\n",
      "MSE: 2.7824855490150105e+20\n",
      "MAE: 8262213286.702719\n"
     ]
    }
   ],
   "source": [
    "from lls import LLSRegression\n",
    "\n",
    "model = LLSRegression()\n",
    "model.fit(X_train, y_train)\n",
    "print(f\"RMSE: {model.score(X_test, y_test, metric='RMSE')}\")\n",
    "print(f\"MSE: {model.score(X_test, y_test, metric='MSE')}\")\n",
    "print(f\"MAE: {model.score(X_test, y_test, metric='MAE')}\")"
   ],
   "metadata": {
    "collapsed": false,
    "ExecuteTime": {
     "end_time": "2025-02-02T18:16:25.547746800Z",
     "start_time": "2025-02-02T18:16:25.533663900Z"
    }
   },
   "id": "b79887486c6b28f4",
   "execution_count": 31
  },
  {
   "cell_type": "code",
   "outputs": [],
   "source": [
    "import numpy as np\n",
    "\n",
    "def evaluate(y_test, y_predict):\n",
    "    print(f'RMSE: {np.sqrt(np.mean((y_test - y_predict) ** 2))}')\n",
    "    print(f'MSE: {np.mean((y_test - y_predict) ** 2)}')\n",
    "    print(f'MAE: {np.mean(np.abs(y_test - y_predict))}')"
   ],
   "metadata": {
    "collapsed": false,
    "ExecuteTime": {
     "end_time": "2025-02-02T18:16:31.423634200Z",
     "start_time": "2025-02-02T18:16:31.402639900Z"
    }
   },
   "id": "b167452e89631a4b",
   "execution_count": 32
  },
  {
   "cell_type": "code",
   "outputs": [
    {
     "name": "stdout",
     "output_type": "stream",
     "text": [
      "score: 0.5069351639801083\n",
      "RMSE: 15885814426.776382\n",
      "MSE: 2.523591000019766e+20\n",
      "MAE: 7939318381.55609\n"
     ]
    }
   ],
   "source": [
    "from sklearn.linear_model import LinearRegression\n",
    "\n",
    "model = LinearRegression()\n",
    "model.fit(X_train, y_train)\n",
    "print(f'score: {model.score(X_test, y_test)}')\n",
    "y_predict = model.predict(X_test)\n",
    "evaluate(y_test, y_predict)"
   ],
   "metadata": {
    "collapsed": false,
    "ExecuteTime": {
     "end_time": "2025-02-02T18:16:32.618481900Z",
     "start_time": "2025-02-02T18:16:32.588691Z"
    }
   },
   "id": "b69fd309e43dd3a6",
   "execution_count": 33
  },
  {
   "cell_type": "code",
   "outputs": [
    {
     "name": "stdout",
     "output_type": "stream",
     "text": [
      "score: 0.5069090192015089\n",
      "RMSE: 15886235594.100765\n",
      "MSE: 2.523724813512741e+20\n",
      "MAE: 7928598133.92898\n"
     ]
    }
   ],
   "source": [
    "from sklearn.linear_model import RidgeCV\n",
    "\n",
    "model = RidgeCV()\n",
    "model.fit(X_train, y_train)\n",
    "print(f'score: {model.score(X_test, y_test)}')\n",
    "y_predict = model.predict(X_test)\n",
    "evaluate(y_test, y_predict)"
   ],
   "metadata": {
    "collapsed": false,
    "ExecuteTime": {
     "end_time": "2025-02-02T18:16:44.180681700Z",
     "start_time": "2025-02-02T18:16:44.161522500Z"
    }
   },
   "id": "da01da68bb411d1f",
   "execution_count": 34
  }
 ],
 "metadata": {
  "kernelspec": {
   "display_name": "Python 3",
   "language": "python",
   "name": "python3"
  },
  "language_info": {
   "codemirror_mode": {
    "name": "ipython",
    "version": 2
   },
   "file_extension": ".py",
   "mimetype": "text/x-python",
   "name": "python",
   "nbconvert_exporter": "python",
   "pygments_lexer": "ipython2",
   "version": "2.7.6"
  }
 },
 "nbformat": 4,
 "nbformat_minor": 5
}
