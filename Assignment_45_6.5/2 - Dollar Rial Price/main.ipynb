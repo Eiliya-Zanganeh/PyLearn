{
 "cells": [
  {
   "cell_type": "code",
   "execution_count": 1,
   "id": "initial_id",
   "metadata": {
    "collapsed": true,
    "ExecuteTime": {
     "end_time": "2025-02-02T20:39:07.962618900Z",
     "start_time": "2025-02-02T20:39:07.559189800Z"
    }
   },
   "outputs": [],
   "source": [
    "import pandas as pd\n",
    "import numpy as np"
   ]
  },
  {
   "cell_type": "code",
   "outputs": [],
   "source": [
    "df = pd.read_csv('Dollar_Rial_Price_Dataset.csv')"
   ],
   "metadata": {
    "collapsed": false,
    "ExecuteTime": {
     "end_time": "2025-02-02T20:39:07.984625500Z",
     "start_time": "2025-02-02T20:39:07.963620300Z"
    }
   },
   "id": "e09b956ee09592fd",
   "execution_count": 2
  },
  {
   "cell_type": "code",
   "outputs": [
    {
     "data": {
      "text/plain": "   Unnamed: 0        Date Persian_Date    Open     Low    High   Close\n0           0  11/27/2011   1390/09/06  13,700  13,700  13,700  13,700\n1           1  11/28/2011   1390/09/07  13,440  13,440  13,440  13,440\n2           2  11/29/2011   1390/09/08  13,350  13,350  13,350  13,350\n3           3  11/30/2011   1390/09/09  13,400  13,400  13,400  13,400\n4           4   12/1/2011   1390/09/10  13,500  13,500  13,500  13,500",
      "text/html": "<div>\n<style scoped>\n    .dataframe tbody tr th:only-of-type {\n        vertical-align: middle;\n    }\n\n    .dataframe tbody tr th {\n        vertical-align: top;\n    }\n\n    .dataframe thead th {\n        text-align: right;\n    }\n</style>\n<table border=\"1\" class=\"dataframe\">\n  <thead>\n    <tr style=\"text-align: right;\">\n      <th></th>\n      <th>Unnamed: 0</th>\n      <th>Date</th>\n      <th>Persian_Date</th>\n      <th>Open</th>\n      <th>Low</th>\n      <th>High</th>\n      <th>Close</th>\n    </tr>\n  </thead>\n  <tbody>\n    <tr>\n      <th>0</th>\n      <td>0</td>\n      <td>11/27/2011</td>\n      <td>1390/09/06</td>\n      <td>13,700</td>\n      <td>13,700</td>\n      <td>13,700</td>\n      <td>13,700</td>\n    </tr>\n    <tr>\n      <th>1</th>\n      <td>1</td>\n      <td>11/28/2011</td>\n      <td>1390/09/07</td>\n      <td>13,440</td>\n      <td>13,440</td>\n      <td>13,440</td>\n      <td>13,440</td>\n    </tr>\n    <tr>\n      <th>2</th>\n      <td>2</td>\n      <td>11/29/2011</td>\n      <td>1390/09/08</td>\n      <td>13,350</td>\n      <td>13,350</td>\n      <td>13,350</td>\n      <td>13,350</td>\n    </tr>\n    <tr>\n      <th>3</th>\n      <td>3</td>\n      <td>11/30/2011</td>\n      <td>1390/09/09</td>\n      <td>13,400</td>\n      <td>13,400</td>\n      <td>13,400</td>\n      <td>13,400</td>\n    </tr>\n    <tr>\n      <th>4</th>\n      <td>4</td>\n      <td>12/1/2011</td>\n      <td>1390/09/10</td>\n      <td>13,500</td>\n      <td>13,500</td>\n      <td>13,500</td>\n      <td>13,500</td>\n    </tr>\n  </tbody>\n</table>\n</div>"
     },
     "execution_count": 3,
     "metadata": {},
     "output_type": "execute_result"
    }
   ],
   "source": [
    "df.head()"
   ],
   "metadata": {
    "collapsed": false,
    "ExecuteTime": {
     "end_time": "2025-02-02T20:39:08.021486700Z",
     "start_time": "2025-02-02T20:39:07.978624100Z"
    }
   },
   "id": "95e315f65d6297c8",
   "execution_count": 3
  },
  {
   "cell_type": "code",
   "outputs": [],
   "source": [
    "del df['Unnamed: 0']\n",
    "del df['Persian_Date']\n",
    "\n",
    "df['Date'] = pd.to_datetime(df['Date'])\n",
    "\n",
    "df['Open'] = df['Open'].str.replace(',', '').astype(int)\n",
    "df['Low'] = df['Low'].str.replace(',', '').astype(int)\n",
    "df['High'] = df['High'].str.replace(',', '').astype(int)\n",
    "df['Close'] = df['Close'].str.replace(',', '').astype(int)"
   ],
   "metadata": {
    "collapsed": false,
    "ExecuteTime": {
     "end_time": "2025-02-02T20:39:08.040471Z",
     "start_time": "2025-02-02T20:39:08.014474600Z"
    }
   },
   "id": "a336b727cf350f4a",
   "execution_count": 4
  },
  {
   "cell_type": "code",
   "outputs": [
    {
     "data": {
      "text/plain": "        Date   Open    Low   High  Close\n0 2011-11-27  13700  13700  13700  13700\n1 2011-11-28  13440  13440  13440  13440\n2 2011-11-29  13350  13350  13350  13350\n3 2011-11-30  13400  13400  13400  13400\n4 2011-12-01  13500  13500  13500  13500",
      "text/html": "<div>\n<style scoped>\n    .dataframe tbody tr th:only-of-type {\n        vertical-align: middle;\n    }\n\n    .dataframe tbody tr th {\n        vertical-align: top;\n    }\n\n    .dataframe thead th {\n        text-align: right;\n    }\n</style>\n<table border=\"1\" class=\"dataframe\">\n  <thead>\n    <tr style=\"text-align: right;\">\n      <th></th>\n      <th>Date</th>\n      <th>Open</th>\n      <th>Low</th>\n      <th>High</th>\n      <th>Close</th>\n    </tr>\n  </thead>\n  <tbody>\n    <tr>\n      <th>0</th>\n      <td>2011-11-27</td>\n      <td>13700</td>\n      <td>13700</td>\n      <td>13700</td>\n      <td>13700</td>\n    </tr>\n    <tr>\n      <th>1</th>\n      <td>2011-11-28</td>\n      <td>13440</td>\n      <td>13440</td>\n      <td>13440</td>\n      <td>13440</td>\n    </tr>\n    <tr>\n      <th>2</th>\n      <td>2011-11-29</td>\n      <td>13350</td>\n      <td>13350</td>\n      <td>13350</td>\n      <td>13350</td>\n    </tr>\n    <tr>\n      <th>3</th>\n      <td>2011-11-30</td>\n      <td>13400</td>\n      <td>13400</td>\n      <td>13400</td>\n      <td>13400</td>\n    </tr>\n    <tr>\n      <th>4</th>\n      <td>2011-12-01</td>\n      <td>13500</td>\n      <td>13500</td>\n      <td>13500</td>\n      <td>13500</td>\n    </tr>\n  </tbody>\n</table>\n</div>"
     },
     "execution_count": 5,
     "metadata": {},
     "output_type": "execute_result"
    }
   ],
   "source": [
    "df.head()"
   ],
   "metadata": {
    "collapsed": false,
    "ExecuteTime": {
     "end_time": "2025-02-02T20:39:08.159735800Z",
     "start_time": "2025-02-02T20:39:08.031487800Z"
    }
   },
   "id": "b84554f5fe288226",
   "execution_count": 5
  },
  {
   "cell_type": "code",
   "outputs": [],
   "source": [
    "ahmad = df[(df['Date'] >= '8/3/2009') & (df['Date'] < '8/3/2013')]\n",
    "hasan = df[(df['Date'] >= '8/3/2013') & (df['Date'] < '8/3/2021')]\n",
    "ebrahim = df[(df['Date'] >= '8/3/2021') & (df['Date'] < '3/3/2024')]"
   ],
   "metadata": {
    "collapsed": false,
    "ExecuteTime": {
     "end_time": "2025-02-02T20:39:08.159735800Z",
     "start_time": "2025-02-02T20:39:08.045476900Z"
    }
   },
   "id": "189df32baf4bfbce",
   "execution_count": 6
  },
  {
   "cell_type": "code",
   "outputs": [
    {
     "name": "stdout",
     "output_type": "stream",
     "text": [
      "Count all of data: 3310\n",
      "Count ahmad data: 482\n",
      "Count hasan data: 2375\n",
      "Count ebrahim data: 453\n",
      "True\n"
     ]
    }
   ],
   "source": [
    "print(f'Count all of data: {len(df)}')\n",
    "print(f'Count ahmad data: {len(ahmad)}')\n",
    "print(f'Count hasan data: {len(hasan)}')\n",
    "print(f'Count ebrahim data: {len(ebrahim)}')\n",
    "print(len(df) == len(ahmad) + len(hasan) + len(ebrahim))"
   ],
   "metadata": {
    "collapsed": false,
    "ExecuteTime": {
     "end_time": "2025-02-02T20:39:08.160754300Z",
     "start_time": "2025-02-02T20:39:08.058471800Z"
    }
   },
   "id": "2941b5f798d04c23",
   "execution_count": 7
  },
  {
   "cell_type": "code",
   "outputs": [
    {
     "name": "stdout",
     "output_type": "stream",
     "text": [
      "High price in ahmad:  38900\n",
      "High price in hasan:  318560\n",
      "High price in ebrahim:  550510\n"
     ]
    }
   ],
   "source": [
    "print('High price in ahmad: ', ahmad.sort_values(by='Close', ascending=False).iloc[0]['Close'])\n",
    "print('High price in hasan: ', hasan.sort_values(by='Close', ascending=False).iloc[0]['Close'])\n",
    "print('High price in ebrahim: ', ebrahim.sort_values(by='Close', ascending=False).iloc[0]['Close'])"
   ],
   "metadata": {
    "collapsed": false,
    "ExecuteTime": {
     "end_time": "2025-02-02T20:39:08.160754300Z",
     "start_time": "2025-02-02T20:39:08.075472800Z"
    }
   },
   "id": "8032429750cdd7fa",
   "execution_count": 8
  },
  {
   "cell_type": "code",
   "outputs": [
    {
     "name": "stdout",
     "output_type": "stream",
     "text": [
      "Low price in ahmad:  13350\n",
      "Low price in hasan:  28880\n",
      "Low price in ebrahim:  253830\n"
     ]
    }
   ],
   "source": [
    "print('Low price in ahmad: ', ahmad.sort_values(by='Close').iloc[0]['Close'])\n",
    "print('Low price in hasan: ', hasan.sort_values(by='Close').iloc[0]['Close'])\n",
    "print('Low price in ebrahim: ', ebrahim.sort_values(by='Close').iloc[0]['Close'])"
   ],
   "metadata": {
    "collapsed": false,
    "ExecuteTime": {
     "end_time": "2025-02-02T20:39:09.449387900Z",
     "start_time": "2025-02-02T20:39:09.435253200Z"
    }
   },
   "id": "eb3f7fb81031f77c",
   "execution_count": 9
  },
  {
   "cell_type": "code",
   "outputs": [],
   "source": [
    "from train_test_split import train_test_split\n",
    "\n",
    "ahmad_x_train, ahmad_x_test, ahmad_y_train, ahmad_y_test = train_test_split(\n",
    "    ahmad['Date'].values.astype(np.uint32),\n",
    "    ahmad['Close'].values, test_size=.2, random_state=32\n",
    ")\n",
    "\n",
    "hasan_x_train, hasan_x_test, hasan_y_train, hasan_y_test = train_test_split(\n",
    "    hasan['Date'].values.astype(np.uint32),\n",
    "    hasan['Close'].values, test_size=.2, random_state=32\n",
    ")\n",
    "\n",
    "ebrahim_x_train, ebrahim_x_test, ebrahim_y_train, ebrahim_y_test = train_test_split(\n",
    "    ebrahim['Date'].values.astype(np.uint32),\n",
    "    ebrahim['Close'].values, test_size=.2, random_state=32\n",
    ")"
   ],
   "metadata": {
    "collapsed": false,
    "ExecuteTime": {
     "end_time": "2025-02-02T20:39:10.933614800Z",
     "start_time": "2025-02-02T20:39:10.217543200Z"
    }
   },
   "id": "44cdf1e703a952ff",
   "execution_count": 10
  },
  {
   "cell_type": "code",
   "outputs": [
    {
     "name": "stdout",
     "output_type": "stream",
     "text": [
      "Ahmad: x_train: 386, y_train: 386\n",
      "Ahmad: x_test: 96, y_test: 96\n",
      "hasan: x_train: 1900, y_train: 1900\n",
      "hasan: x_test: 475, y_test: 475\n",
      "ebrahim: x_train: 363, y_train: 363\n",
      "ebrahim: x_test: 90, y_test: 90\n"
     ]
    }
   ],
   "source": [
    "print(f'Ahmad: x_train: {len(ahmad_x_train)}, y_train: {len(ahmad_y_train)}')\n",
    "print(f'Ahmad: x_test: {len(ahmad_x_test)}, y_test: {len(ahmad_y_test)}')\n",
    "\n",
    "print(f'hasan: x_train: {len(hasan_x_train)}, y_train: {len(hasan_y_train)}')\n",
    "print(f'hasan: x_test: {len(hasan_x_test)}, y_test: {len(hasan_y_test)}')\n",
    "\n",
    "print(f'ebrahim: x_train: {len(ebrahim_x_train)}, y_train: {len(ebrahim_y_train)}')\n",
    "print(f'ebrahim: x_test: {len(ebrahim_x_test)}, y_test: {len(ebrahim_y_test)}')"
   ],
   "metadata": {
    "collapsed": false,
    "ExecuteTime": {
     "end_time": "2025-02-02T20:39:11.458268200Z",
     "start_time": "2025-02-02T20:39:11.442267500Z"
    }
   },
   "id": "9d43d68450f6f45b",
   "execution_count": 11
  },
  {
   "cell_type": "code",
   "outputs": [],
   "source": [
    "from sklearn.metrics import mean_absolute_error\n",
    "from lls import LLSRegression"
   ],
   "metadata": {
    "collapsed": false,
    "ExecuteTime": {
     "end_time": "2025-02-02T20:39:20.654343200Z",
     "start_time": "2025-02-02T20:39:20.596342800Z"
    }
   },
   "id": "1e41d46e7ad0c8b",
   "execution_count": 12
  },
  {
   "cell_type": "code",
   "outputs": [],
   "source": [
    "ahmad_x_train = ahmad_x_train.reshape(-1, 1)\n",
    "ahmad_x_test = ahmad_y_test.reshape(-1, 1)\n",
    "\n",
    "hasan_x_train = hasan_x_train.reshape(-1, 1)\n",
    "hasan_x_test = hasan_y_test.reshape(-1, 1)\n",
    "\n",
    "ebrahim_x_train = ebrahim_x_train.reshape(-1, 1)\n",
    "ebrahim_x_test = ebrahim_y_test.reshape(-1, 1)"
   ],
   "metadata": {
    "collapsed": false,
    "ExecuteTime": {
     "end_time": "2025-02-02T20:39:21.125453800Z",
     "start_time": "2025-02-02T20:39:21.105454800Z"
    }
   },
   "id": "61d65b18a7120768",
   "execution_count": 13
  },
  {
   "cell_type": "code",
   "outputs": [],
   "source": [
    "ahmad_model = LLSRegression()\n",
    "ahmad_model.fit(ahmad_x_train, ahmad_y_train)\n",
    "\n",
    "hasan_model = LLSRegression()\n",
    "hasan_model.fit(hasan_x_train, hasan_y_train)\n",
    "\n",
    "ebrahim_model = LLSRegression()\n",
    "ebrahim_model.fit(ebrahim_x_train, ebrahim_y_train)"
   ],
   "metadata": {
    "collapsed": false,
    "ExecuteTime": {
     "end_time": "2025-02-02T20:39:21.688392200Z",
     "start_time": "2025-02-02T20:39:21.667391600Z"
    }
   },
   "id": "61e5f300639481ba",
   "execution_count": 14
  },
  {
   "cell_type": "code",
   "outputs": [],
   "source": [
    "ahmad_y_pred = ahmad_model.predict(ahmad_x_test)\n",
    "hasan_y_pred = hasan_model.predict(hasan_x_test)\n",
    "ebrahim_y_pred = ebrahim_model.predict(ebrahim_x_test)"
   ],
   "metadata": {
    "collapsed": false,
    "ExecuteTime": {
     "end_time": "2025-02-02T20:39:22.678268100Z",
     "start_time": "2025-02-02T20:39:22.649479900Z"
    }
   },
   "id": "a4292d92f1228a97",
   "execution_count": 15
  },
  {
   "cell_type": "code",
   "outputs": [
    {
     "name": "stdout",
     "output_type": "stream",
     "text": [
      "Ahmad result: 26160.3125\n",
      "hasan result: 83876.92631578947\n",
      "ebrahim result: 349385.3333333333\n"
     ]
    }
   ],
   "source": [
    "print(f'Ahmad result: {mean_absolute_error(ahmad_y_pred, ahmad_y_test)}')\n",
    "print(f'hasan result: {mean_absolute_error(hasan_y_pred, hasan_y_test)}')\n",
    "print(f'ebrahim result: {mean_absolute_error(ebrahim_y_pred, ebrahim_y_test)}')"
   ],
   "metadata": {
    "collapsed": false,
    "ExecuteTime": {
     "end_time": "2025-02-02T20:39:23.267527700Z",
     "start_time": "2025-02-02T20:39:23.256526100Z"
    }
   },
   "id": "8dadbdf71f4cfa6f",
   "execution_count": 16
  }
 ],
 "metadata": {
  "kernelspec": {
   "display_name": "Python 3",
   "language": "python",
   "name": "python3"
  },
  "language_info": {
   "codemirror_mode": {
    "name": "ipython",
    "version": 2
   },
   "file_extension": ".py",
   "mimetype": "text/x-python",
   "name": "python",
   "nbconvert_exporter": "python",
   "pygments_lexer": "ipython2",
   "version": "2.7.6"
  }
 },
 "nbformat": 4,
 "nbformat_minor": 5
}
