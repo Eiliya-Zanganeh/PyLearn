{
 "cells": [
  {
   "cell_type": "code",
   "execution_count": 90,
   "id": "initial_id",
   "metadata": {
    "collapsed": true,
    "ExecuteTime": {
     "end_time": "2025-01-18T17:13:54.027817600Z",
     "start_time": "2025-01-18T17:13:54.004817700Z"
    }
   },
   "outputs": [],
   "source": [
    "import cv2 as cv"
   ]
  },
  {
   "cell_type": "code",
   "outputs": [],
   "source": [
    "def contourArea(contour):\n",
    "    points = contour.reshape(-1, 2)\n",
    "    area = 0\n",
    "    for idx, point in enumerate(points):\n",
    "        if idx + 1 != len(points):\n",
    "            next_point = points[idx + 1]\n",
    "        else:\n",
    "            next_point = points[0]\n",
    "        area += (point[0] * next_point[1]) - (point[1] * next_point[0])\n",
    "    return abs(area) / 2"
   ],
   "metadata": {
    "collapsed": false,
    "ExecuteTime": {
     "end_time": "2025-01-18T17:13:54.295216Z",
     "start_time": "2025-01-18T17:13:54.275984700Z"
    }
   },
   "id": "2e7275ea18b1db20",
   "execution_count": 91
  },
  {
   "cell_type": "code",
   "outputs": [
    {
     "name": "stdout",
     "output_type": "stream",
     "text": [
      "14424.5\n",
      "14424.5\n"
     ]
    }
   ],
   "source": [
    "image = cv.imread('img.png', cv.IMREAD_GRAYSCALE)\n",
    "\n",
    "_, image = cv.threshold(image, 127, 255, cv.THRESH_BINARY)\n",
    "image = 255 - image\n",
    "contours, _ = cv.findContours(image, cv.RETR_EXTERNAL, cv.CHAIN_APPROX_SIMPLE)\n",
    "\n",
    "for contour in contours:\n",
    "    print(cv.contourArea(contour))\n",
    "    print(contourArea(contour))"
   ],
   "metadata": {
    "collapsed": false,
    "ExecuteTime": {
     "end_time": "2025-01-18T17:13:54.691855Z",
     "start_time": "2025-01-18T17:13:54.676851900Z"
    }
   },
   "id": "16b85d569d26ea6c",
   "execution_count": 92
  }
 ],
 "metadata": {
  "kernelspec": {
   "display_name": "Python 3",
   "language": "python",
   "name": "python3"
  },
  "language_info": {
   "codemirror_mode": {
    "name": "ipython",
    "version": 2
   },
   "file_extension": ".py",
   "mimetype": "text/x-python",
   "name": "python",
   "nbconvert_exporter": "python",
   "pygments_lexer": "ipython2",
   "version": "2.7.6"
  }
 },
 "nbformat": 4,
 "nbformat_minor": 5
}
