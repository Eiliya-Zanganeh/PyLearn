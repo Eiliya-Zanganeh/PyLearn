{
 "cells": [
  {
   "cell_type": "code",
   "execution_count": 222,
   "id": "initial_id",
   "metadata": {
    "collapsed": true,
    "ExecuteTime": {
     "end_time": "2025-02-06T17:13:59.600591300Z",
     "start_time": "2025-02-06T17:13:59.573593200Z"
    }
   },
   "outputs": [],
   "source": [
    "import pandas as pd\n",
    "import tensorflow as tf\n",
    "import matplotlib.pyplot as plt\n",
    "from sklearn.metrics import precision_score, recall_score\n",
    "import numpy as np"
   ]
  },
  {
   "cell_type": "code",
   "outputs": [],
   "source": [
    "train_df = pd.read_csv('../Dataset/train.csv')\n",
    "test_df = pd.read_csv('../Dataset/test.csv')\n",
    "test_df_label = pd.read_csv('../Dataset/gender_submission.csv')"
   ],
   "metadata": {
    "collapsed": false,
    "ExecuteTime": {
     "end_time": "2025-02-06T16:50:07.765254400Z",
     "start_time": "2025-02-06T16:50:07.738038100Z"
    }
   },
   "id": "2a4fbbfa5b3fd3b",
   "execution_count": 101
  },
  {
   "cell_type": "code",
   "outputs": [
    {
     "data": {
      "text/plain": "True"
     },
     "execution_count": 102,
     "metadata": {},
     "output_type": "execute_result"
    }
   ],
   "source": [
    "all(test_df['PassengerId'] == test_df_label['PassengerId'])"
   ],
   "metadata": {
    "collapsed": false,
    "ExecuteTime": {
     "end_time": "2025-02-06T16:50:08.137817Z",
     "start_time": "2025-02-06T16:50:08.116798300Z"
    }
   },
   "id": "9b141d1b73e75911",
   "execution_count": 102
  },
  {
   "cell_type": "code",
   "outputs": [],
   "source": [
    "test_df['Survived'] = test_df_label['Survived']"
   ],
   "metadata": {
    "collapsed": false,
    "ExecuteTime": {
     "end_time": "2025-02-06T16:50:08.533089700Z",
     "start_time": "2025-02-06T16:50:08.510453900Z"
    }
   },
   "id": "e12ef94b9b793937",
   "execution_count": 103
  },
  {
   "cell_type": "code",
   "outputs": [
    {
     "data": {
      "text/plain": "   Survived  Pclass                                               Name  Sex  \\\n0         0       3                            Braund, Mr. Owen Harris    1   \n1         1       1  Cumings, Mrs. John Bradley (Florence Briggs Th...    0   \n2         1       3                             Heikkinen, Miss. Laina    0   \n3         1       1       Futrelle, Mrs. Jacques Heath (Lily May Peel)    0   \n4         0       3                           Allen, Mr. William Henry    1   \n5         0       3                                   Moran, Mr. James    1   \n6         0       1                            McCarthy, Mr. Timothy J    1   \n7         0       3                     Palsson, Master. Gosta Leonard    1   \n8         1       3  Johnson, Mrs. Oscar W (Elisabeth Vilhelmina Berg)    0   \n9         1       2                Nasser, Mrs. Nicholas (Adele Achem)    0   \n\n    Age  SibSp  Parch     Fare  Embarked  \n0  22.0      1      0   7.2500         0  \n1  38.0      1      0  71.2833         1  \n2  26.0      0      0   7.9250         0  \n3  35.0      1      0  53.1000         0  \n4  35.0      0      0   8.0500         0  \n5  30.0      0      0   8.4583         2  \n6  54.0      0      0  51.8625         0  \n7   2.0      3      1  21.0750         0  \n8  27.0      0      2  11.1333         0  \n9  14.0      1      0  30.0708         1  ",
      "text/html": "<div>\n<style scoped>\n    .dataframe tbody tr th:only-of-type {\n        vertical-align: middle;\n    }\n\n    .dataframe tbody tr th {\n        vertical-align: top;\n    }\n\n    .dataframe thead th {\n        text-align: right;\n    }\n</style>\n<table border=\"1\" class=\"dataframe\">\n  <thead>\n    <tr style=\"text-align: right;\">\n      <th></th>\n      <th>Survived</th>\n      <th>Pclass</th>\n      <th>Name</th>\n      <th>Sex</th>\n      <th>Age</th>\n      <th>SibSp</th>\n      <th>Parch</th>\n      <th>Fare</th>\n      <th>Embarked</th>\n    </tr>\n  </thead>\n  <tbody>\n    <tr>\n      <th>0</th>\n      <td>0</td>\n      <td>3</td>\n      <td>Braund, Mr. Owen Harris</td>\n      <td>1</td>\n      <td>22.0</td>\n      <td>1</td>\n      <td>0</td>\n      <td>7.2500</td>\n      <td>0</td>\n    </tr>\n    <tr>\n      <th>1</th>\n      <td>1</td>\n      <td>1</td>\n      <td>Cumings, Mrs. John Bradley (Florence Briggs Th...</td>\n      <td>0</td>\n      <td>38.0</td>\n      <td>1</td>\n      <td>0</td>\n      <td>71.2833</td>\n      <td>1</td>\n    </tr>\n    <tr>\n      <th>2</th>\n      <td>1</td>\n      <td>3</td>\n      <td>Heikkinen, Miss. Laina</td>\n      <td>0</td>\n      <td>26.0</td>\n      <td>0</td>\n      <td>0</td>\n      <td>7.9250</td>\n      <td>0</td>\n    </tr>\n    <tr>\n      <th>3</th>\n      <td>1</td>\n      <td>1</td>\n      <td>Futrelle, Mrs. Jacques Heath (Lily May Peel)</td>\n      <td>0</td>\n      <td>35.0</td>\n      <td>1</td>\n      <td>0</td>\n      <td>53.1000</td>\n      <td>0</td>\n    </tr>\n    <tr>\n      <th>4</th>\n      <td>0</td>\n      <td>3</td>\n      <td>Allen, Mr. William Henry</td>\n      <td>1</td>\n      <td>35.0</td>\n      <td>0</td>\n      <td>0</td>\n      <td>8.0500</td>\n      <td>0</td>\n    </tr>\n    <tr>\n      <th>5</th>\n      <td>0</td>\n      <td>3</td>\n      <td>Moran, Mr. James</td>\n      <td>1</td>\n      <td>30.0</td>\n      <td>0</td>\n      <td>0</td>\n      <td>8.4583</td>\n      <td>2</td>\n    </tr>\n    <tr>\n      <th>6</th>\n      <td>0</td>\n      <td>1</td>\n      <td>McCarthy, Mr. Timothy J</td>\n      <td>1</td>\n      <td>54.0</td>\n      <td>0</td>\n      <td>0</td>\n      <td>51.8625</td>\n      <td>0</td>\n    </tr>\n    <tr>\n      <th>7</th>\n      <td>0</td>\n      <td>3</td>\n      <td>Palsson, Master. Gosta Leonard</td>\n      <td>1</td>\n      <td>2.0</td>\n      <td>3</td>\n      <td>1</td>\n      <td>21.0750</td>\n      <td>0</td>\n    </tr>\n    <tr>\n      <th>8</th>\n      <td>1</td>\n      <td>3</td>\n      <td>Johnson, Mrs. Oscar W (Elisabeth Vilhelmina Berg)</td>\n      <td>0</td>\n      <td>27.0</td>\n      <td>0</td>\n      <td>2</td>\n      <td>11.1333</td>\n      <td>0</td>\n    </tr>\n    <tr>\n      <th>9</th>\n      <td>1</td>\n      <td>2</td>\n      <td>Nasser, Mrs. Nicholas (Adele Achem)</td>\n      <td>0</td>\n      <td>14.0</td>\n      <td>1</td>\n      <td>0</td>\n      <td>30.0708</td>\n      <td>1</td>\n    </tr>\n  </tbody>\n</table>\n</div>"
     },
     "execution_count": 104,
     "metadata": {},
     "output_type": "execute_result"
    }
   ],
   "source": [
    "del train_df['PassengerId']\n",
    "del train_df['Ticket']\n",
    "del train_df['Cabin']\n",
    "del test_df['PassengerId']\n",
    "del test_df['Ticket']\n",
    "del test_df['Cabin']\n",
    "\n",
    "train_df['Sex'] = train_df['Sex'].map({'female': 0, 'male': 1})\n",
    "test_df['Sex'] = test_df['Sex'].map({'female': 0, 'male': 1})\n",
    "\n",
    "age_avg = float(round(train_df['Age'].mean()))\n",
    "train_df['Age'] = train_df['Age'].fillna(age_avg)\n",
    "test_df['Age'] = test_df['Age'].fillna(age_avg)\n",
    "\n",
    "train_df['Embarked'] = train_df['Embarked'].fillna('S')\n",
    "test_df['Fare'] = test_df['Fare'].fillna(0.0)\n",
    "\n",
    "train_df['Embarked'] = train_df['Embarked'].map({'S': 0, 'C': 1, 'Q': 2})\n",
    "test_df['Embarked'] = test_df['Embarked'].map({'S': 0, 'C': 1, 'Q': 2})\n",
    "\n",
    "train_df.head(10)"
   ],
   "metadata": {
    "collapsed": false,
    "ExecuteTime": {
     "end_time": "2025-02-06T16:50:08.940945900Z",
     "start_time": "2025-02-06T16:50:08.919948100Z"
    }
   },
   "id": "280c54b1fa655144",
   "execution_count": 104
  },
  {
   "cell_type": "code",
   "outputs": [],
   "source": [
    "feature_cols = ['Pclass', 'Sex', 'Age', 'SibSp', 'Parch', 'Fare', 'Embarked']\n",
    "\n",
    "x_train = train_df[feature_cols].values\n",
    "x_test = test_df[feature_cols].values\n",
    "y_train = train_df['Survived'].values\n",
    "y_test = test_df['Survived'].values"
   ],
   "metadata": {
    "collapsed": false,
    "ExecuteTime": {
     "end_time": "2025-02-06T16:50:10.314975800Z",
     "start_time": "2025-02-06T16:50:10.279975Z"
    }
   },
   "id": "98767847c7fe8688",
   "execution_count": 105
  },
  {
   "cell_type": "code",
   "outputs": [],
   "source": [
    "model = tf.keras.models.Sequential([\n",
    "    tf.keras.layers.Dense(6, activation=tf.keras.activations.sigmoid),\n",
    "    tf.keras.layers.Dense(64, activation=tf.keras.activations.relu),\n",
    "    tf.keras.layers.Dense(32, activation=tf.keras.activations.sigmoid),\n",
    "    tf.keras.layers.Dense(2, activation=tf.keras.activations.softmax),\n",
    "])"
   ],
   "metadata": {
    "collapsed": false,
    "ExecuteTime": {
     "end_time": "2025-02-06T17:07:49.575669100Z",
     "start_time": "2025-02-06T17:07:49.552634600Z"
    }
   },
   "id": "5db1cfce26b3c42b",
   "execution_count": 212
  },
  {
   "cell_type": "code",
   "outputs": [],
   "source": [
    "model.compile(\n",
    "    optimizer=tf.keras.optimizers.Adam(learning_rate=.01),\n",
    "    loss=tf.keras.losses.sparse_categorical_crossentropy,\n",
    "    metrics=['accuracy']\n",
    ")"
   ],
   "metadata": {
    "collapsed": false,
    "ExecuteTime": {
     "end_time": "2025-02-06T17:07:52.991887100Z",
     "start_time": "2025-02-06T17:07:52.974877700Z"
    }
   },
   "id": "6dcc76cedd7d0afe",
   "execution_count": 213
  },
  {
   "cell_type": "code",
   "outputs": [
    {
     "name": "stdout",
     "output_type": "stream",
     "text": [
      "Epoch 1/200\n",
      "28/28 [==============================] - 1s 963us/step - loss: 0.6418 - accuracy: 0.6768\n",
      "Epoch 2/200\n",
      "28/28 [==============================] - 0s 927us/step - loss: 0.6350 - accuracy: 0.6745\n",
      "Epoch 3/200\n",
      "28/28 [==============================] - 0s 1ms/step - loss: 0.6174 - accuracy: 0.6723\n",
      "Epoch 4/200\n",
      "28/28 [==============================] - 0s 926us/step - loss: 0.5901 - accuracy: 0.6891\n",
      "Epoch 5/200\n",
      "28/28 [==============================] - 0s 1000us/step - loss: 0.5844 - accuracy: 0.6723\n",
      "Epoch 6/200\n",
      "28/28 [==============================] - 0s 994us/step - loss: 0.5665 - accuracy: 0.6835\n",
      "Epoch 7/200\n",
      "28/28 [==============================] - 0s 815us/step - loss: 0.5466 - accuracy: 0.7116\n",
      "Epoch 8/200\n",
      "28/28 [==============================] - 0s 931us/step - loss: 0.5311 - accuracy: 0.7363\n",
      "Epoch 9/200\n",
      "28/28 [==============================] - 0s 896us/step - loss: 0.5188 - accuracy: 0.7565\n",
      "Epoch 10/200\n",
      "28/28 [==============================] - 0s 908us/step - loss: 0.4894 - accuracy: 0.7755\n",
      "Epoch 11/200\n",
      "28/28 [==============================] - 0s 982us/step - loss: 0.5352 - accuracy: 0.7486\n",
      "Epoch 12/200\n",
      "28/28 [==============================] - 0s 954us/step - loss: 0.5762 - accuracy: 0.6947\n",
      "Epoch 13/200\n",
      "28/28 [==============================] - 0s 927us/step - loss: 0.5039 - accuracy: 0.7553\n",
      "Epoch 14/200\n",
      "28/28 [==============================] - 0s 1ms/step - loss: 0.4908 - accuracy: 0.7868\n",
      "Epoch 15/200\n",
      "28/28 [==============================] - 0s 964us/step - loss: 0.4759 - accuracy: 0.7789\n",
      "Epoch 16/200\n",
      "28/28 [==============================] - 0s 963us/step - loss: 0.4696 - accuracy: 0.7856\n",
      "Epoch 17/200\n",
      "28/28 [==============================] - 0s 1ms/step - loss: 0.4755 - accuracy: 0.7845\n",
      "Epoch 18/200\n",
      "28/28 [==============================] - 0s 963us/step - loss: 0.4637 - accuracy: 0.7901\n",
      "Epoch 19/200\n",
      "28/28 [==============================] - 0s 963us/step - loss: 0.4805 - accuracy: 0.7912\n",
      "Epoch 20/200\n",
      "28/28 [==============================] - 0s 963us/step - loss: 0.4589 - accuracy: 0.7879\n",
      "Epoch 21/200\n",
      "28/28 [==============================] - 0s 889us/step - loss: 0.4571 - accuracy: 0.7991\n",
      "Epoch 22/200\n",
      "28/28 [==============================] - 0s 1ms/step - loss: 0.4565 - accuracy: 0.8002\n",
      "Epoch 23/200\n",
      "28/28 [==============================] - 0s 1ms/step - loss: 0.4573 - accuracy: 0.7957\n",
      "Epoch 24/200\n",
      "28/28 [==============================] - 0s 926us/step - loss: 0.4531 - accuracy: 0.8002\n",
      "Epoch 25/200\n",
      "28/28 [==============================] - 0s 850us/step - loss: 0.4641 - accuracy: 0.7957\n",
      "Epoch 26/200\n",
      "28/28 [==============================] - 0s 926us/step - loss: 0.4611 - accuracy: 0.7969\n",
      "Epoch 27/200\n",
      "28/28 [==============================] - 0s 1ms/step - loss: 0.4628 - accuracy: 0.7789\n",
      "Epoch 28/200\n",
      "28/28 [==============================] - 0s 963us/step - loss: 0.4836 - accuracy: 0.7621\n",
      "Epoch 29/200\n",
      "28/28 [==============================] - 0s 964us/step - loss: 0.4752 - accuracy: 0.7823\n",
      "Epoch 30/200\n",
      "28/28 [==============================] - 0s 926us/step - loss: 0.4524 - accuracy: 0.7980\n",
      "Epoch 31/200\n",
      "28/28 [==============================] - 0s 926us/step - loss: 0.4652 - accuracy: 0.7654\n",
      "Epoch 32/200\n",
      "28/28 [==============================] - 0s 1ms/step - loss: 0.4603 - accuracy: 0.7800\n",
      "Epoch 33/200\n",
      "28/28 [==============================] - 0s 926us/step - loss: 0.4443 - accuracy: 0.7991\n",
      "Epoch 34/200\n",
      "28/28 [==============================] - 0s 1ms/step - loss: 0.4442 - accuracy: 0.7980\n",
      "Epoch 35/200\n",
      "28/28 [==============================] - 0s 1ms/step - loss: 0.4584 - accuracy: 0.7946\n",
      "Epoch 36/200\n",
      "28/28 [==============================] - 0s 1000us/step - loss: 0.4585 - accuracy: 0.8025\n",
      "Epoch 37/200\n",
      "28/28 [==============================] - 0s 963us/step - loss: 0.4528 - accuracy: 0.7811\n",
      "Epoch 38/200\n",
      "28/28 [==============================] - 0s 964us/step - loss: 0.4459 - accuracy: 0.7991\n",
      "Epoch 39/200\n",
      "28/28 [==============================] - 0s 1000us/step - loss: 0.4378 - accuracy: 0.8002\n",
      "Epoch 40/200\n",
      "28/28 [==============================] - 0s 1ms/step - loss: 0.4402 - accuracy: 0.7946\n",
      "Epoch 41/200\n",
      "28/28 [==============================] - 0s 1ms/step - loss: 0.4363 - accuracy: 0.8103\n",
      "Epoch 42/200\n",
      "28/28 [==============================] - 0s 815us/step - loss: 0.4339 - accuracy: 0.8025\n",
      "Epoch 43/200\n",
      "28/28 [==============================] - 0s 963us/step - loss: 0.4538 - accuracy: 0.7811\n",
      "Epoch 44/200\n",
      "28/28 [==============================] - 0s 927us/step - loss: 0.4424 - accuracy: 0.7969\n",
      "Epoch 45/200\n",
      "28/28 [==============================] - 0s 994us/step - loss: 0.4387 - accuracy: 0.8137\n",
      "Epoch 46/200\n",
      "28/28 [==============================] - 0s 917us/step - loss: 0.4547 - accuracy: 0.7946\n",
      "Epoch 47/200\n",
      "28/28 [==============================] - 0s 965us/step - loss: 0.4384 - accuracy: 0.7879\n",
      "Epoch 48/200\n",
      "28/28 [==============================] - 0s 996us/step - loss: 0.4443 - accuracy: 0.7946\n",
      "Epoch 49/200\n",
      "28/28 [==============================] - 0s 1ms/step - loss: 0.4455 - accuracy: 0.7980\n",
      "Epoch 50/200\n",
      "28/28 [==============================] - 0s 1ms/step - loss: 0.4386 - accuracy: 0.8036\n",
      "Epoch 51/200\n",
      "28/28 [==============================] - 0s 1ms/step - loss: 0.4461 - accuracy: 0.8002\n",
      "Epoch 52/200\n",
      "28/28 [==============================] - 0s 974us/step - loss: 0.4373 - accuracy: 0.8025\n",
      "Epoch 53/200\n",
      "28/28 [==============================] - 0s 916us/step - loss: 0.4418 - accuracy: 0.8047\n",
      "Epoch 54/200\n",
      "28/28 [==============================] - 0s 926us/step - loss: 0.4404 - accuracy: 0.8025\n",
      "Epoch 55/200\n",
      "28/28 [==============================] - 0s 1ms/step - loss: 0.4305 - accuracy: 0.8103\n",
      "Epoch 56/200\n",
      "28/28 [==============================] - 0s 949us/step - loss: 0.4244 - accuracy: 0.8114\n",
      "Epoch 57/200\n",
      "28/28 [==============================] - 0s 924us/step - loss: 0.4343 - accuracy: 0.8081\n",
      "Epoch 58/200\n",
      "28/28 [==============================] - 0s 963us/step - loss: 0.4309 - accuracy: 0.8137\n",
      "Epoch 59/200\n",
      "28/28 [==============================] - 0s 1000us/step - loss: 0.4358 - accuracy: 0.8070\n",
      "Epoch 60/200\n",
      "28/28 [==============================] - 0s 815us/step - loss: 0.4298 - accuracy: 0.8070\n",
      "Epoch 61/200\n",
      "28/28 [==============================] - 0s 926us/step - loss: 0.4325 - accuracy: 0.8002\n",
      "Epoch 62/200\n",
      "28/28 [==============================] - 0s 1ms/step - loss: 0.4246 - accuracy: 0.8204\n",
      "Epoch 63/200\n",
      "28/28 [==============================] - 0s 1ms/step - loss: 0.4351 - accuracy: 0.8002\n",
      "Epoch 64/200\n",
      "28/28 [==============================] - 0s 1ms/step - loss: 0.4320 - accuracy: 0.8103\n",
      "Epoch 65/200\n",
      "28/28 [==============================] - 0s 1ms/step - loss: 0.4309 - accuracy: 0.8159\n",
      "Epoch 66/200\n",
      "28/28 [==============================] - 0s 1ms/step - loss: 0.4208 - accuracy: 0.8148\n",
      "Epoch 67/200\n",
      "28/28 [==============================] - 0s 908us/step - loss: 0.4253 - accuracy: 0.8171\n",
      "Epoch 68/200\n",
      "28/28 [==============================] - 0s 926us/step - loss: 0.4253 - accuracy: 0.8025\n",
      "Epoch 69/200\n",
      "28/28 [==============================] - 0s 1ms/step - loss: 0.4318 - accuracy: 0.8058\n",
      "Epoch 70/200\n",
      "28/28 [==============================] - 0s 1ms/step - loss: 0.4300 - accuracy: 0.8137\n",
      "Epoch 71/200\n",
      "28/28 [==============================] - 0s 962us/step - loss: 0.4266 - accuracy: 0.8260\n",
      "Epoch 72/200\n",
      "28/28 [==============================] - 0s 1ms/step - loss: 0.4207 - accuracy: 0.8238\n",
      "Epoch 73/200\n",
      "28/28 [==============================] - 0s 964us/step - loss: 0.4274 - accuracy: 0.8047\n",
      "Epoch 74/200\n",
      "28/28 [==============================] - 0s 964us/step - loss: 0.4231 - accuracy: 0.8159\n",
      "Epoch 75/200\n",
      "28/28 [==============================] - 0s 1000us/step - loss: 0.4307 - accuracy: 0.8002\n",
      "Epoch 76/200\n",
      "28/28 [==============================] - 0s 1ms/step - loss: 0.4195 - accuracy: 0.8013\n",
      "Epoch 77/200\n",
      "28/28 [==============================] - 0s 816us/step - loss: 0.4261 - accuracy: 0.8103\n",
      "Epoch 78/200\n",
      "28/28 [==============================] - 0s 889us/step - loss: 0.4220 - accuracy: 0.8114\n",
      "Epoch 79/200\n",
      "28/28 [==============================] - 0s 964us/step - loss: 0.4473 - accuracy: 0.8114\n",
      "Epoch 80/200\n",
      "28/28 [==============================] - 0s 964us/step - loss: 0.4505 - accuracy: 0.8025\n",
      "Epoch 81/200\n",
      "28/28 [==============================] - 0s 926us/step - loss: 0.4333 - accuracy: 0.8159\n",
      "Epoch 82/200\n",
      "28/28 [==============================] - 0s 926us/step - loss: 0.4211 - accuracy: 0.8047\n",
      "Epoch 83/200\n",
      "28/28 [==============================] - 0s 966us/step - loss: 0.4218 - accuracy: 0.8193\n",
      "Epoch 84/200\n",
      "28/28 [==============================] - 0s 1000us/step - loss: 0.4291 - accuracy: 0.8081\n",
      "Epoch 85/200\n",
      "28/28 [==============================] - 0s 1ms/step - loss: 0.4254 - accuracy: 0.8126\n",
      "Epoch 86/200\n",
      "28/28 [==============================] - 0s 1ms/step - loss: 0.4301 - accuracy: 0.8103\n",
      "Epoch 87/200\n",
      "28/28 [==============================] - 0s 1000us/step - loss: 0.4460 - accuracy: 0.8081\n",
      "Epoch 88/200\n",
      "28/28 [==============================] - 0s 1ms/step - loss: 0.4295 - accuracy: 0.8159\n",
      "Epoch 89/200\n",
      "28/28 [==============================] - 0s 963us/step - loss: 0.4321 - accuracy: 0.8159\n",
      "Epoch 90/200\n",
      "28/28 [==============================] - 0s 963us/step - loss: 0.4208 - accuracy: 0.8159\n",
      "Epoch 91/200\n",
      "28/28 [==============================] - 0s 963us/step - loss: 0.4168 - accuracy: 0.8238\n",
      "Epoch 92/200\n",
      "28/28 [==============================] - 0s 914us/step - loss: 0.4201 - accuracy: 0.8171\n",
      "Epoch 93/200\n",
      "28/28 [==============================] - 0s 1ms/step - loss: 0.4221 - accuracy: 0.8249\n",
      "Epoch 94/200\n",
      "28/28 [==============================] - 0s 1ms/step - loss: 0.4183 - accuracy: 0.8249\n",
      "Epoch 95/200\n",
      "28/28 [==============================] - 0s 1ms/step - loss: 0.4294 - accuracy: 0.8238\n",
      "Epoch 96/200\n",
      "28/28 [==============================] - 0s 853us/step - loss: 0.4237 - accuracy: 0.8238\n",
      "Epoch 97/200\n",
      "28/28 [==============================] - 0s 926us/step - loss: 0.4133 - accuracy: 0.8215\n",
      "Epoch 98/200\n",
      "28/28 [==============================] - 0s 963us/step - loss: 0.4141 - accuracy: 0.8182\n",
      "Epoch 99/200\n",
      "28/28 [==============================] - 0s 963us/step - loss: 0.4192 - accuracy: 0.8215\n",
      "Epoch 100/200\n",
      "28/28 [==============================] - 0s 964us/step - loss: 0.4075 - accuracy: 0.8238\n",
      "Epoch 101/200\n",
      "28/28 [==============================] - 0s 1ms/step - loss: 0.4159 - accuracy: 0.8148\n",
      "Epoch 102/200\n",
      "28/28 [==============================] - 0s 964us/step - loss: 0.4527 - accuracy: 0.7890\n",
      "Epoch 103/200\n",
      "28/28 [==============================] - 0s 1ms/step - loss: 0.4209 - accuracy: 0.8058\n",
      "Epoch 104/200\n",
      "28/28 [==============================] - 0s 1000us/step - loss: 0.4145 - accuracy: 0.8215\n",
      "Epoch 105/200\n",
      "28/28 [==============================] - 0s 1ms/step - loss: 0.4082 - accuracy: 0.8260\n",
      "Epoch 106/200\n",
      "28/28 [==============================] - 0s 963us/step - loss: 0.4141 - accuracy: 0.8215\n",
      "Epoch 107/200\n",
      "28/28 [==============================] - 0s 926us/step - loss: 0.4458 - accuracy: 0.8114\n",
      "Epoch 108/200\n",
      "28/28 [==============================] - 0s 889us/step - loss: 0.4104 - accuracy: 0.8238\n",
      "Epoch 109/200\n",
      "28/28 [==============================] - 0s 889us/step - loss: 0.4159 - accuracy: 0.8114\n",
      "Epoch 110/200\n",
      "28/28 [==============================] - 0s 889us/step - loss: 0.4080 - accuracy: 0.8272\n",
      "Epoch 111/200\n",
      "28/28 [==============================] - 0s 963us/step - loss: 0.4056 - accuracy: 0.8204\n",
      "Epoch 112/200\n",
      "28/28 [==============================] - 0s 1ms/step - loss: 0.3994 - accuracy: 0.8114\n",
      "Epoch 113/200\n",
      "28/28 [==============================] - 0s 963us/step - loss: 0.4064 - accuracy: 0.8238\n",
      "Epoch 114/200\n",
      "28/28 [==============================] - 0s 852us/step - loss: 0.4052 - accuracy: 0.8171\n",
      "Epoch 115/200\n",
      "28/28 [==============================] - 0s 815us/step - loss: 0.3969 - accuracy: 0.8316\n",
      "Epoch 116/200\n",
      "28/28 [==============================] - 0s 1ms/step - loss: 0.4039 - accuracy: 0.8215\n",
      "Epoch 117/200\n",
      "28/28 [==============================] - 0s 1ms/step - loss: 0.4162 - accuracy: 0.8092\n",
      "Epoch 118/200\n",
      "28/28 [==============================] - 0s 1ms/step - loss: 0.4120 - accuracy: 0.8204\n",
      "Epoch 119/200\n",
      "28/28 [==============================] - 0s 890us/step - loss: 0.4030 - accuracy: 0.8305\n",
      "Epoch 120/200\n",
      "28/28 [==============================] - 0s 890us/step - loss: 0.4156 - accuracy: 0.8070\n",
      "Epoch 121/200\n",
      "28/28 [==============================] - 0s 926us/step - loss: 0.4093 - accuracy: 0.8215\n",
      "Epoch 122/200\n",
      "28/28 [==============================] - 0s 1ms/step - loss: 0.4067 - accuracy: 0.8238\n",
      "Epoch 123/200\n",
      "28/28 [==============================] - 0s 962us/step - loss: 0.4036 - accuracy: 0.8272\n",
      "Epoch 124/200\n",
      "28/28 [==============================] - 0s 963us/step - loss: 0.3976 - accuracy: 0.8272\n",
      "Epoch 125/200\n",
      "28/28 [==============================] - 0s 1ms/step - loss: 0.3951 - accuracy: 0.8260\n",
      "Epoch 126/200\n",
      "28/28 [==============================] - 0s 963us/step - loss: 0.4010 - accuracy: 0.8227\n",
      "Epoch 127/200\n",
      "28/28 [==============================] - 0s 964us/step - loss: 0.4093 - accuracy: 0.8272\n",
      "Epoch 128/200\n",
      "28/28 [==============================] - 0s 1ms/step - loss: 0.4195 - accuracy: 0.8103\n",
      "Epoch 129/200\n",
      "28/28 [==============================] - 0s 1ms/step - loss: 0.4019 - accuracy: 0.8294\n",
      "Epoch 130/200\n",
      "28/28 [==============================] - 0s 926us/step - loss: 0.3989 - accuracy: 0.8305\n",
      "Epoch 131/200\n",
      "28/28 [==============================] - 0s 815us/step - loss: 0.4088 - accuracy: 0.8215\n",
      "Epoch 132/200\n",
      "28/28 [==============================] - 0s 927us/step - loss: 0.4076 - accuracy: 0.8204\n",
      "Epoch 133/200\n",
      "28/28 [==============================] - 0s 1ms/step - loss: 0.3925 - accuracy: 0.8238\n",
      "Epoch 134/200\n",
      "28/28 [==============================] - 0s 1ms/step - loss: 0.4035 - accuracy: 0.8204\n",
      "Epoch 135/200\n",
      "28/28 [==============================] - 0s 963us/step - loss: 0.4000 - accuracy: 0.8238\n",
      "Epoch 136/200\n",
      "28/28 [==============================] - 0s 890us/step - loss: 0.4013 - accuracy: 0.8227\n",
      "Epoch 137/200\n",
      "28/28 [==============================] - 0s 964us/step - loss: 0.3942 - accuracy: 0.8283\n",
      "Epoch 138/200\n",
      "28/28 [==============================] - 0s 964us/step - loss: 0.3924 - accuracy: 0.8249\n",
      "Epoch 139/200\n",
      "28/28 [==============================] - 0s 889us/step - loss: 0.3893 - accuracy: 0.8328\n",
      "Epoch 140/200\n",
      "28/28 [==============================] - 0s 926us/step - loss: 0.3938 - accuracy: 0.8182\n",
      "Epoch 141/200\n",
      "28/28 [==============================] - 0s 963us/step - loss: 0.3893 - accuracy: 0.8316\n",
      "Epoch 142/200\n",
      "28/28 [==============================] - 0s 1000us/step - loss: 0.4009 - accuracy: 0.8238\n",
      "Epoch 143/200\n",
      "28/28 [==============================] - 0s 926us/step - loss: 0.3918 - accuracy: 0.8260\n",
      "Epoch 144/200\n",
      "28/28 [==============================] - 0s 3ms/step - loss: 0.3947 - accuracy: 0.8339\n",
      "Epoch 145/200\n",
      "28/28 [==============================] - 0s 963us/step - loss: 0.4031 - accuracy: 0.8260\n",
      "Epoch 146/200\n",
      "28/28 [==============================] - 0s 964us/step - loss: 0.4003 - accuracy: 0.8238\n",
      "Epoch 147/200\n",
      "28/28 [==============================] - 0s 815us/step - loss: 0.3962 - accuracy: 0.8227\n",
      "Epoch 148/200\n",
      "28/28 [==============================] - 0s 852us/step - loss: 0.3944 - accuracy: 0.8260\n",
      "Epoch 149/200\n",
      "28/28 [==============================] - 0s 961us/step - loss: 0.3869 - accuracy: 0.8260\n",
      "Epoch 150/200\n",
      "28/28 [==============================] - 0s 880us/step - loss: 0.4112 - accuracy: 0.8114\n",
      "Epoch 151/200\n",
      "28/28 [==============================] - 0s 1ms/step - loss: 0.4048 - accuracy: 0.8227\n",
      "Epoch 152/200\n",
      "28/28 [==============================] - 0s 926us/step - loss: 0.3942 - accuracy: 0.8283\n",
      "Epoch 153/200\n",
      "28/28 [==============================] - 0s 962us/step - loss: 0.4027 - accuracy: 0.8294\n",
      "Epoch 154/200\n",
      "28/28 [==============================] - 0s 1ms/step - loss: 0.3965 - accuracy: 0.8283\n",
      "Epoch 155/200\n",
      "28/28 [==============================] - 0s 926us/step - loss: 0.3923 - accuracy: 0.8305\n",
      "Epoch 156/200\n",
      "28/28 [==============================] - 0s 963us/step - loss: 0.3944 - accuracy: 0.8215\n",
      "Epoch 157/200\n",
      "28/28 [==============================] - 0s 1ms/step - loss: 0.3923 - accuracy: 0.8260\n",
      "Epoch 158/200\n",
      "28/28 [==============================] - 0s 998us/step - loss: 0.3955 - accuracy: 0.8193\n",
      "Epoch 159/200\n",
      "28/28 [==============================] - 0s 926us/step - loss: 0.3934 - accuracy: 0.8328\n",
      "Epoch 160/200\n",
      "28/28 [==============================] - 0s 1000us/step - loss: 0.3891 - accuracy: 0.8283\n",
      "Epoch 161/200\n",
      "28/28 [==============================] - 0s 890us/step - loss: 0.3974 - accuracy: 0.8272\n",
      "Epoch 162/200\n",
      "28/28 [==============================] - 0s 1ms/step - loss: 0.3882 - accuracy: 0.8272\n",
      "Epoch 163/200\n",
      "28/28 [==============================] - 0s 1000us/step - loss: 0.3862 - accuracy: 0.8305\n",
      "Epoch 164/200\n",
      "28/28 [==============================] - 0s 997us/step - loss: 0.3880 - accuracy: 0.8328\n",
      "Epoch 165/200\n",
      "28/28 [==============================] - 0s 963us/step - loss: 0.3847 - accuracy: 0.8339\n",
      "Epoch 166/200\n",
      "28/28 [==============================] - 0s 889us/step - loss: 0.3975 - accuracy: 0.8182\n",
      "Epoch 167/200\n",
      "28/28 [==============================] - 0s 963us/step - loss: 0.4081 - accuracy: 0.8283\n",
      "Epoch 168/200\n",
      "28/28 [==============================] - 0s 1ms/step - loss: 0.3929 - accuracy: 0.8249\n",
      "Epoch 169/200\n",
      "28/28 [==============================] - 0s 964us/step - loss: 0.4001 - accuracy: 0.8193\n",
      "Epoch 170/200\n",
      "28/28 [==============================] - 0s 1ms/step - loss: 0.3880 - accuracy: 0.8305\n",
      "Epoch 171/200\n",
      "28/28 [==============================] - 0s 962us/step - loss: 0.3858 - accuracy: 0.8361\n",
      "Epoch 172/200\n",
      "28/28 [==============================] - 0s 963us/step - loss: 0.3855 - accuracy: 0.8328\n",
      "Epoch 173/200\n",
      "28/28 [==============================] - 0s 927us/step - loss: 0.3938 - accuracy: 0.8305\n",
      "Epoch 174/200\n",
      "28/28 [==============================] - 0s 1ms/step - loss: 0.3863 - accuracy: 0.8339\n",
      "Epoch 175/200\n",
      "28/28 [==============================] - 0s 947us/step - loss: 0.3917 - accuracy: 0.8294\n",
      "Epoch 176/200\n",
      "28/28 [==============================] - 0s 1ms/step - loss: 0.4055 - accuracy: 0.8092\n",
      "Epoch 177/200\n",
      "28/28 [==============================] - 0s 953us/step - loss: 0.3931 - accuracy: 0.8171\n",
      "Epoch 178/200\n",
      "28/28 [==============================] - 0s 971us/step - loss: 0.3906 - accuracy: 0.8272\n",
      "Epoch 179/200\n",
      "28/28 [==============================] - 0s 935us/step - loss: 0.4016 - accuracy: 0.8316\n",
      "Epoch 180/200\n",
      "28/28 [==============================] - 0s 947us/step - loss: 0.3914 - accuracy: 0.8328\n",
      "Epoch 181/200\n",
      "28/28 [==============================] - 0s 943us/step - loss: 0.3966 - accuracy: 0.8227\n",
      "Epoch 182/200\n",
      "28/28 [==============================] - 0s 1ms/step - loss: 0.3821 - accuracy: 0.8316\n",
      "Epoch 183/200\n",
      "28/28 [==============================] - 0s 963us/step - loss: 0.3939 - accuracy: 0.8204\n",
      "Epoch 184/200\n",
      "28/28 [==============================] - 0s 963us/step - loss: 0.3860 - accuracy: 0.8361\n",
      "Epoch 185/200\n",
      "28/28 [==============================] - 0s 815us/step - loss: 0.3854 - accuracy: 0.8305\n",
      "Epoch 186/200\n",
      "28/28 [==============================] - 0s 963us/step - loss: 0.4086 - accuracy: 0.8159\n",
      "Epoch 187/200\n",
      "28/28 [==============================] - 0s 964us/step - loss: 0.3912 - accuracy: 0.8272\n",
      "Epoch 188/200\n",
      "28/28 [==============================] - 0s 1ms/step - loss: 0.3822 - accuracy: 0.8350\n",
      "Epoch 189/200\n",
      "28/28 [==============================] - 0s 963us/step - loss: 0.3823 - accuracy: 0.8361\n",
      "Epoch 190/200\n",
      "28/28 [==============================] - 0s 1ms/step - loss: 0.3814 - accuracy: 0.8249\n",
      "Epoch 191/200\n",
      "28/28 [==============================] - 0s 1ms/step - loss: 0.3835 - accuracy: 0.8350\n",
      "Epoch 192/200\n",
      "28/28 [==============================] - 0s 964us/step - loss: 0.3806 - accuracy: 0.8361\n",
      "Epoch 193/200\n",
      "28/28 [==============================] - 0s 927us/step - loss: 0.3796 - accuracy: 0.8361\n",
      "Epoch 194/200\n",
      "28/28 [==============================] - 0s 1ms/step - loss: 0.3792 - accuracy: 0.8384\n",
      "Epoch 195/200\n",
      "28/28 [==============================] - 0s 964us/step - loss: 0.3807 - accuracy: 0.8294\n",
      "Epoch 196/200\n",
      "28/28 [==============================] - 0s 889us/step - loss: 0.3959 - accuracy: 0.8339\n",
      "Epoch 197/200\n",
      "28/28 [==============================] - 0s 926us/step - loss: 0.3881 - accuracy: 0.8260\n",
      "Epoch 198/200\n",
      "28/28 [==============================] - 0s 917us/step - loss: 0.3815 - accuracy: 0.8305\n",
      "Epoch 199/200\n",
      "28/28 [==============================] - 0s 1ms/step - loss: 0.3846 - accuracy: 0.8350\n",
      "Epoch 200/200\n",
      "28/28 [==============================] - 0s 926us/step - loss: 0.3986 - accuracy: 0.8272\n"
     ]
    }
   ],
   "source": [
    "result = model.fit(x_train, y_train, epochs=200, batch_size=32)"
   ],
   "metadata": {
    "collapsed": false,
    "ExecuteTime": {
     "end_time": "2025-02-06T17:08:00.602113400Z",
     "start_time": "2025-02-06T17:07:53.896003500Z"
    }
   },
   "id": "8bbb060879be1d90",
   "execution_count": 214
  },
  {
   "cell_type": "code",
   "outputs": [
    {
     "name": "stdout",
     "output_type": "stream",
     "text": [
      "14/14 [==============================] - 0s 931us/step - loss: 0.4166 - accuracy: 0.9402\n"
     ]
    }
   ],
   "source": [
    "test_result = model.evaluate(x_test, y_test, batch_size=32)"
   ],
   "metadata": {
    "collapsed": false,
    "ExecuteTime": {
     "end_time": "2025-02-06T17:08:01.773307800Z",
     "start_time": "2025-02-06T17:08:01.635058800Z"
    }
   },
   "id": "2cb6277b75be38f9",
   "execution_count": 215
  },
  {
   "cell_type": "code",
   "outputs": [
    {
     "data": {
      "text/plain": "<Figure size 640x480 with 1 Axes>",
      "image/png": "[encoded data removed]"
     },
     "metadata": {},
     "output_type": "display_data"
    }
   ],
   "source": [
    "plt.plot(result.history['accuracy'], label='accuracy train')\n",
    "plt.show()"
   ],
   "metadata": {
    "collapsed": false,
    "ExecuteTime": {
     "end_time": "2025-02-06T17:08:07.196749300Z",
     "start_time": "2025-02-06T17:08:07.077855900Z"
    }
   },
   "id": "d042c36f8374c72d",
   "execution_count": 216
  },
  {
   "cell_type": "code",
   "outputs": [
    {
     "data": {
      "text/plain": "<Figure size 640x480 with 1 Axes>",
      "image/png": "[encoded data removed]"
     },
     "metadata": {},
     "output_type": "display_data"
    }
   ],
   "source": [
    "plt.plot(result.history['loss'], label='loss train')\n",
    "plt.show()"
   ],
   "metadata": {
    "collapsed": false,
    "ExecuteTime": {
     "end_time": "2025-02-06T17:08:19.265813900Z",
     "start_time": "2025-02-06T17:08:19.183813400Z"
    }
   },
   "id": "6e7cf25c3d80e571",
   "execution_count": 217
  },
  {
   "cell_type": "code",
   "outputs": [
    {
     "name": "stdout",
     "output_type": "stream",
     "text": [
      "14/14 [==============================] - 0s 771us/step\n"
     ]
    }
   ],
   "source": [
    "y_pred = model.predict(x_test)"
   ],
   "metadata": {
    "collapsed": false,
    "ExecuteTime": {
     "end_time": "2025-02-06T17:13:38.324920900Z",
     "start_time": "2025-02-06T17:13:38.152849500Z"
    }
   },
   "id": "3bcd0bd7121f7725",
   "execution_count": 221
  },
  {
   "cell_type": "code",
   "outputs": [],
   "source": [
    "labels = np.where(y_pred[:, 0] > y_pred[:, 1], 0, 1)"
   ],
   "metadata": {
    "collapsed": false,
    "ExecuteTime": {
     "end_time": "2025-02-06T17:17:09.437601700Z",
     "start_time": "2025-02-06T17:17:09.410071400Z"
    }
   },
   "id": "e4720c1585d87ce1",
   "execution_count": 226
  },
  {
   "cell_type": "code",
   "outputs": [
    {
     "name": "stdout",
     "output_type": "stream",
     "text": [
      "Precision: 0.9379310344827586\n",
      "Recall: 0.8947368421052632\n"
     ]
    }
   ],
   "source": [
    "precision = precision_score(y_test, labels)\n",
    "recall = recall_score(y_test, labels)\n",
    "\n",
    "print(f'Precision: {precision}')\n",
    "print(f'Recall: {recall}')"
   ],
   "metadata": {
    "collapsed": false,
    "ExecuteTime": {
     "end_time": "2025-02-06T17:17:24.671060700Z",
     "start_time": "2025-02-06T17:17:24.620843700Z"
    }
   },
   "id": "c1d7aade48f2ded0",
   "execution_count": 227
  },
  {
   "cell_type": "code",
   "outputs": [
    {
     "name": "stdout",
     "output_type": "stream",
     "text": [
      "1/1 [==============================] - 0s 50ms/step\n"
     ]
    }
   ],
   "source": [
    "new_data = np.array([\n",
    "    [3, 1, 23, 0, 0, 5, 1], \n",
    "    [1, 0, 20, 1, 2, 100, 1]\n",
    "])\n",
    "\n",
    "result = model.predict(new_data)"
   ],
   "metadata": {
    "collapsed": false,
    "ExecuteTime": {
     "end_time": "2025-02-06T17:29:36.175196400Z",
     "start_time": "2025-02-06T17:29:36.076195400Z"
    }
   },
   "id": "95618673f3ad2026",
   "execution_count": 242
  },
  {
   "cell_type": "code",
   "outputs": [
    {
     "data": {
      "text/plain": "array([0, 1])"
     },
     "execution_count": 244,
     "metadata": {},
     "output_type": "execute_result"
    }
   ],
   "source": [
    "np.where(result[:, 0] > result[:, 1], 0, 1)"
   ],
   "metadata": {
    "collapsed": false,
    "ExecuteTime": {
     "end_time": "2025-02-06T17:29:49.966322500Z",
     "start_time": "2025-02-06T17:29:49.940070800Z"
    }
   },
   "id": "e8d81059c85fc5e0",
   "execution_count": 244
  }
 ],
 "metadata": {
  "kernelspec": {
   "display_name": "Python 3",
   "language": "python",
   "name": "python3"
  },
  "language_info": {
   "codemirror_mode": {
    "name": "ipython",
    "version": 2
   },
   "file_extension": ".py",
   "mimetype": "text/x-python",
   "name": "python",
   "nbconvert_exporter": "python",
   "pygments_lexer": "ipython2",
   "version": "2.7.6"
  }
 },
 "nbformat": 4,
 "nbformat_minor": 5
}
