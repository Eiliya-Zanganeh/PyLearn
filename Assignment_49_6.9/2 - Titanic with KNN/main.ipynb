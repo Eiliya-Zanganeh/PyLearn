{
 "cells": [
  {
   "cell_type": "code",
   "execution_count": 10,
   "id": "initial_id",
   "metadata": {
    "collapsed": true,
    "ExecuteTime": {
     "end_time": "2025-02-06T17:46:48.121413900Z",
     "start_time": "2025-02-06T17:46:48.097413400Z"
    }
   },
   "outputs": [],
   "source": [
    "import pandas as pd\n",
    "import numpy as np\n",
    "from k_nearest_neighbors import KNearestNeighbors"
   ]
  },
  {
   "cell_type": "code",
   "outputs": [],
   "source": [
    "train_df = pd.read_csv('../Dataset/train.csv')\n",
    "test_df = pd.read_csv('../Dataset/test.csv')\n",
    "test_df_label = pd.read_csv('../Dataset/gender_submission.csv')\n",
    "\n",
    "test_df['Survived'] = test_df_label['Survived']\n",
    "\n",
    "del train_df['PassengerId']\n",
    "del train_df['Ticket']\n",
    "del train_df['Cabin']\n",
    "del test_df['PassengerId']\n",
    "del test_df['Ticket']\n",
    "del test_df['Cabin']\n",
    "\n",
    "train_df['Sex'] = train_df['Sex'].map({'female': 0, 'male': 1})\n",
    "test_df['Sex'] = test_df['Sex'].map({'female': 0, 'male': 1})\n",
    "\n",
    "age_avg = float(round(train_df['Age'].mean()))\n",
    "train_df['Age'] = train_df['Age'].fillna(age_avg)\n",
    "test_df['Age'] = test_df['Age'].fillna(age_avg)\n",
    "\n",
    "train_df['Embarked'] = train_df['Embarked'].fillna('S')\n",
    "test_df['Fare'] = test_df['Fare'].fillna(0.0)\n",
    "\n",
    "train_df['Embarked'] = train_df['Embarked'].map({'S': 0, 'C': 1, 'Q': 2})\n",
    "test_df['Embarked'] = test_df['Embarked'].map({'S': 0, 'C': 1, 'Q': 2})\n",
    "\n",
    "feature_cols = ['Pclass', 'Sex', 'Age', 'SibSp', 'Parch', 'Fare', 'Embarked']\n",
    "\n",
    "x_train = train_df[feature_cols].values\n",
    "x_test = test_df[feature_cols].values\n",
    "y_train = train_df['Survived'].values\n",
    "y_test = test_df['Survived'].values"
   ],
   "metadata": {
    "collapsed": false,
    "ExecuteTime": {
     "end_time": "2025-02-06T17:46:48.555032800Z",
     "start_time": "2025-02-06T17:46:48.494033900Z"
    }
   },
   "id": "6118547aeefeec68",
   "execution_count": 11
  },
  {
   "cell_type": "code",
   "outputs": [],
   "source": [
    "model = KNearestNeighbors(x_train, y_train)"
   ],
   "metadata": {
    "collapsed": false,
    "ExecuteTime": {
     "end_time": "2025-02-06T17:46:49.414409400Z",
     "start_time": "2025-02-06T17:46:49.391008700Z"
    }
   },
   "id": "73c563d5c3653900",
   "execution_count": 12
  },
  {
   "cell_type": "code",
   "outputs": [
    {
     "name": "stderr",
     "output_type": "stream",
     "text": [
      "100%|██████████| 418/418 [00:00<00:00, 16796.66it/s]\n"
     ]
    }
   ],
   "source": [
    "predict = model.predict(x_test, k=3)"
   ],
   "metadata": {
    "collapsed": false,
    "ExecuteTime": {
     "end_time": "2025-02-06T17:46:50.411914900Z",
     "start_time": "2025-02-06T17:46:50.347364Z"
    }
   },
   "id": "f0910ead7170f9dd",
   "execution_count": 13
  },
  {
   "cell_type": "code",
   "outputs": [
    {
     "data": {
      "text/plain": "0.645933014354067"
     },
     "execution_count": 14,
     "metadata": {},
     "output_type": "execute_result"
    }
   ],
   "source": [
    "np.sum(predict == y_test) / len(predict)"
   ],
   "metadata": {
    "collapsed": false,
    "ExecuteTime": {
     "end_time": "2025-02-06T17:47:07.595802900Z",
     "start_time": "2025-02-06T17:47:07.572350400Z"
    }
   },
   "id": "76e3cb8209abba8a",
   "execution_count": 14
  }
 ],
 "metadata": {
  "kernelspec": {
   "display_name": "Python 3",
   "language": "python",
   "name": "python3"
  },
  "language_info": {
   "codemirror_mode": {
    "name": "ipython",
    "version": 2
   },
   "file_extension": ".py",
   "mimetype": "text/x-python",
   "name": "python",
   "nbconvert_exporter": "python",
   "pygments_lexer": "ipython2",
   "version": "2.7.6"
  }
 },
 "nbformat": 4,
 "nbformat_minor": 5
}
