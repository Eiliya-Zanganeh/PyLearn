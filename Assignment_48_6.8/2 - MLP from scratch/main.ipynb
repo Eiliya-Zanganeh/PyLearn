{
 "cells": [
  {
   "cell_type": "code",
   "execution_count": 1,
   "id": "initial_id",
   "metadata": {
    "collapsed": true,
    "ExecuteTime": {
     "end_time": "2025-02-06T13:31:50.774358200Z",
     "start_time": "2025-02-06T13:31:49.047359800Z"
    }
   },
   "outputs": [],
   "source": [
    "import matplotlib.pyplot as plt\n",
    "from sklearn.datasets import load_digits\n",
    "from sklearn.model_selection import train_test_split\n",
    "from sklearn.preprocessing import OneHotEncoder\n",
    "from MLP import *"
   ]
  },
  {
   "cell_type": "code",
   "outputs": [
    {
     "name": "stdout",
     "output_type": "stream",
     "text": [
      "Train: (1437, 64), (1437, 10)\n",
      "Validation: (90, 64), (90, 10)\n",
      "Test: (270, 64), (270, 10)\n"
     ]
    }
   ],
   "source": [
    "digits = load_digits()\n",
    "X = digits.data\n",
    "Y = digits.target\n",
    "Y = np.eye(10)[Y]\n",
    "\n",
    "# encoder = OneHotEncoder()\n",
    "# Y = encoder.fit_transform(Y)\n",
    "\n",
    "# decoded_data = encoder.inverse_transform(encoded_data)\n",
    "\n",
    "X_train, X_test, Y_train, Y_test = train_test_split(X, Y, test_size=0.2, random_state=42)\n",
    "X_test, X_validation, Y_test, Y_validation = train_test_split(X_test, Y_test, test_size=0.25, random_state=42)\n",
    "\n",
    "print(f'Train: {X_train.shape}, {Y_train.shape}')\n",
    "print(f'Validation: {X_validation.shape}, {Y_validation.shape}')\n",
    "print(f'Test: {X_test.shape}, {Y_test.shape}')"
   ],
   "metadata": {
    "collapsed": false,
    "ExecuteTime": {
     "end_time": "2025-02-06T13:31:50.834358900Z",
     "start_time": "2025-02-06T13:31:50.744359100Z"
    }
   },
   "id": "63fa3f47e8279e13",
   "execution_count": 2
  },
  {
   "cell_type": "code",
   "outputs": [
    {
     "name": "stdout",
     "output_type": "stream",
     "text": [
      "Epoch: 1\n",
      "Train: Loss 0.3121385948202374, Accuracy: 0.232428670842032\n",
      "Validation: Loss 0.25754019562466157, Accuracy: 0.3888888888888889\n",
      "Epoch: 2\n",
      "Train: Loss 0.21988332883850617, Accuracy: 0.5059151009046625\n",
      "Validation: Loss 0.21172225088659957, Accuracy: 0.4888888888888889\n",
      "Epoch: 3\n",
      "Train: Loss 0.16879013080880356, Accuracy: 0.662491301322199\n",
      "Validation: Loss 0.17984092011099628, Accuracy: 0.5888888888888889\n",
      "Epoch: 4\n",
      "Train: Loss 0.14020647446068954, Accuracy: 0.7411273486430062\n",
      "Validation: Loss 0.15373689081424377, Accuracy: 0.7\n",
      "Epoch: 5\n",
      "Train: Loss 0.12181492722227515, Accuracy: 0.7891440501043842\n",
      "Validation: Loss 0.13944481952010032, Accuracy: 0.7111111111111111\n",
      "Epoch: 6\n",
      "Train: Loss 0.10839860326624425, Accuracy: 0.8218510786360473\n",
      "Validation: Loss 0.13016891633398747, Accuracy: 0.7555555555555555\n",
      "Epoch: 7\n",
      "Train: Loss 0.09843519048714432, Accuracy: 0.848295059151009\n",
      "Validation: Loss 0.12249437155280174, Accuracy: 0.7888888888888889\n",
      "Epoch: 8\n",
      "Train: Loss 0.09000319588000641, Accuracy: 0.871955462769659\n",
      "Validation: Loss 0.11566282294648678, Accuracy: 0.8111111111111111\n",
      "Epoch: 9\n",
      "Train: Loss 0.08344463847630668, Accuracy: 0.8872651356993737\n",
      "Validation: Loss 0.11022248411905271, Accuracy: 0.8111111111111111\n",
      "Epoch: 10\n",
      "Train: Loss 0.07644857349586316, Accuracy: 0.9039665970772442\n",
      "Validation: Loss 0.10631921497975755, Accuracy: 0.8111111111111111\n",
      "Epoch: 11\n",
      "Train: Loss 0.07077606092786072, Accuracy: 0.919276270006959\n",
      "Validation: Loss 0.10226516811499285, Accuracy: 0.8111111111111111\n",
      "Epoch: 12\n",
      "Train: Loss 0.06589852331566633, Accuracy: 0.9262352122477383\n",
      "Validation: Loss 0.09867802499086653, Accuracy: 0.8333333333333334\n",
      "Epoch: 13\n",
      "Train: Loss 0.06179339218588341, Accuracy: 0.9311064718162839\n",
      "Validation: Loss 0.09508574375603038, Accuracy: 0.8444444444444444\n",
      "Epoch: 14\n",
      "Train: Loss 0.058105386832361085, Accuracy: 0.9352818371607515\n",
      "Validation: Loss 0.09172959965240828, Accuracy: 0.8444444444444444\n",
      "Epoch: 15\n",
      "Train: Loss 0.05489007188945276, Accuracy: 0.9478079331941545\n",
      "Validation: Loss 0.0889932510172452, Accuracy: 0.8444444444444444\n",
      "Epoch: 16\n",
      "Train: Loss 0.05204059437823737, Accuracy: 0.9491997216423104\n",
      "Validation: Loss 0.08670604920687872, Accuracy: 0.8444444444444444\n",
      "Epoch: 17\n",
      "Train: Loss 0.049486900261743974, Accuracy: 0.954070981210856\n",
      "Validation: Loss 0.08456786594437514, Accuracy: 0.8444444444444444\n",
      "Epoch: 18\n",
      "Train: Loss 0.04715549772369985, Accuracy: 0.9596381350034795\n",
      "Validation: Loss 0.08245790324361532, Accuracy: 0.8555555555555555\n",
      "Epoch: 19\n",
      "Train: Loss 0.04501946517186303, Accuracy: 0.9617258176757133\n",
      "Validation: Loss 0.08062645471639998, Accuracy: 0.8666666666666667\n",
      "Epoch: 20\n",
      "Train: Loss 0.04306247033792934, Accuracy: 0.964509394572025\n",
      "Validation: Loss 0.07885143069983688, Accuracy: 0.8666666666666667\n",
      "Epoch: 21\n",
      "Train: Loss 0.04124495714938272, Accuracy: 0.9659011830201809\n",
      "Validation: Loss 0.07722149987663902, Accuracy: 0.8666666666666667\n",
      "Epoch: 22\n",
      "Train: Loss 0.039652400749942966, Accuracy: 0.9665970772442589\n",
      "Validation: Loss 0.075705853662661, Accuracy: 0.8666666666666667\n",
      "Epoch: 23\n",
      "Train: Loss 0.0382021940626087, Accuracy: 0.9707724425887265\n",
      "Validation: Loss 0.07446944379616507, Accuracy: 0.8666666666666667\n",
      "Epoch: 24\n",
      "Train: Loss 0.036873243896196145, Accuracy: 0.9728601252609603\n",
      "Validation: Loss 0.07333600882025465, Accuracy: 0.8666666666666667\n",
      "Epoch: 25\n",
      "Train: Loss 0.035628278347455064, Accuracy: 0.9735560194850382\n",
      "Validation: Loss 0.07215339097255981, Accuracy: 0.8666666666666667\n",
      "Epoch: 26\n",
      "Train: Loss 0.0344367176113966, Accuracy: 0.9756437021572721\n",
      "Validation: Loss 0.07106767356853123, Accuracy: 0.8666666666666667\n",
      "Epoch: 27\n",
      "Train: Loss 0.033317920934094795, Accuracy: 0.97633959638135\n",
      "Validation: Loss 0.07007587556194284, Accuracy: 0.8888888888888888\n",
      "Epoch: 28\n",
      "Train: Loss 0.032274474821183355, Accuracy: 0.977731384829506\n",
      "Validation: Loss 0.0691359167300907, Accuracy: 0.8888888888888888\n",
      "Epoch: 29\n",
      "Train: Loss 0.03129281048940127, Accuracy: 0.9791231732776617\n",
      "Validation: Loss 0.0682264100365226, Accuracy: 0.8888888888888888\n",
      "Epoch: 30\n",
      "Train: Loss 0.030368880342093115, Accuracy: 0.9798190675017397\n",
      "Validation: Loss 0.06735300450826627, Accuracy: 0.8888888888888888\n",
      "Epoch: 31\n",
      "Train: Loss 0.029496108867233927, Accuracy: 0.9832985386221295\n",
      "Validation: Loss 0.0665209967565146, Accuracy: 0.8888888888888888\n",
      "Epoch: 32\n",
      "Train: Loss 0.0286696450256913, Accuracy: 0.9832985386221295\n",
      "Validation: Loss 0.06573409821395074, Accuracy: 0.8888888888888888\n",
      "Epoch: 33\n",
      "Train: Loss 0.027882747404628393, Accuracy: 0.9832985386221295\n",
      "Validation: Loss 0.06499599851962573, Accuracy: 0.8888888888888888\n",
      "Epoch: 34\n",
      "Train: Loss 0.027128025774393813, Accuracy: 0.9846903270702854\n",
      "Validation: Loss 0.06431139906258405, Accuracy: 0.8888888888888888\n",
      "Epoch: 35\n",
      "Train: Loss 0.026397035921573407, Accuracy: 0.9853862212943633\n",
      "Validation: Loss 0.06368011311173102, Accuracy: 0.9\n",
      "Epoch: 36\n",
      "Train: Loss 0.025679214072335515, Accuracy: 0.9860821155184412\n",
      "Validation: Loss 0.06308189318193766, Accuracy: 0.9222222222222223\n",
      "Epoch: 37\n",
      "Train: Loss 0.024974862200463507, Accuracy: 0.9867780097425192\n",
      "Validation: Loss 0.06248343135309793, Accuracy: 0.9222222222222223\n",
      "Epoch: 38\n",
      "Train: Loss 0.024304447141073566, Accuracy: 0.988865692414753\n",
      "Validation: Loss 0.061860307389492525, Accuracy: 0.9222222222222223\n",
      "Epoch: 39\n",
      "Train: Loss 0.023672897227177192, Accuracy: 0.9902574808629089\n",
      "Validation: Loss 0.06120810684774855, Accuracy: 0.9222222222222223\n",
      "Epoch: 40\n",
      "Train: Loss 0.023075189050245654, Accuracy: 0.9902574808629089\n",
      "Validation: Loss 0.06053534858223262, Accuracy: 0.9222222222222223\n",
      "Epoch: 41\n",
      "Train: Loss 0.022509324815983903, Accuracy: 0.9916492693110647\n",
      "Validation: Loss 0.05985803859044626, Accuracy: 0.9222222222222223\n",
      "Epoch: 42\n",
      "Train: Loss 0.021973181627420776, Accuracy: 0.9923451635351427\n",
      "Validation: Loss 0.059195466845779345, Accuracy: 0.9222222222222223\n",
      "Epoch: 43\n",
      "Train: Loss 0.02146403625078549, Accuracy: 0.9923451635351427\n",
      "Validation: Loss 0.05856282224775157, Accuracy: 0.9222222222222223\n",
      "Epoch: 44\n",
      "Train: Loss 0.020979767998716984, Accuracy: 0.9923451635351427\n",
      "Validation: Loss 0.057966535761068805, Accuracy: 0.9222222222222223\n",
      "Epoch: 45\n",
      "Train: Loss 0.020518620338721615, Accuracy: 0.9930410577592206\n",
      "Validation: Loss 0.05740474441000132, Accuracy: 0.9222222222222223\n",
      "Epoch: 46\n",
      "Train: Loss 0.020079023359298575, Accuracy: 0.9937369519832986\n",
      "Validation: Loss 0.05687118150363379, Accuracy: 0.9222222222222223\n",
      "Epoch: 47\n",
      "Train: Loss 0.019659655002972804, Accuracy: 0.9937369519832986\n",
      "Validation: Loss 0.05635869705397888, Accuracy: 0.9222222222222223\n",
      "Epoch: 48\n",
      "Train: Loss 0.01925944204643713, Accuracy: 0.9937369519832986\n",
      "Validation: Loss 0.05586096582764495, Accuracy: 0.9222222222222223\n",
      "Epoch: 49\n",
      "Train: Loss 0.01887754775735784, Accuracy: 0.9937369519832986\n",
      "Validation: Loss 0.05537304829985907, Accuracy: 0.9333333333333333\n",
      "Epoch: 50\n",
      "Train: Loss 0.018512359924293304, Accuracy: 0.9937369519832986\n",
      "Validation: Loss 0.054891104600375176, Accuracy: 0.9333333333333333\n"
     ]
    }
   ],
   "source": [
    "model = MultiLayerPerceptron(64, 10, .001)\n",
    "\n",
    "epochs = 50\n",
    "\n",
    "train_total_losses = []\n",
    "train_total_accuracies = []\n",
    "validation_total_losses = []\n",
    "validation_total_accuracies = []\n",
    "\n",
    "for epoch in range(epochs):\n",
    "\n",
    "    train_losses = []\n",
    "    train_accuracies = []\n",
    "\n",
    "    validation_losses = []\n",
    "    validation_accuracies = []\n",
    "\n",
    "    # Train\n",
    "    for x, y in zip(X_train, Y_train):\n",
    "        x = x.reshape(-1, 1).T\n",
    "\n",
    "        output = model.forward(x)\n",
    "\n",
    "        model.backward(x, y, output)\n",
    "\n",
    "        model.update()\n",
    "\n",
    "        train_accuracies.append(accuracy(output, y))\n",
    "        train_losses.append(RMSD(output, y))\n",
    "\n",
    "    # Validation\n",
    "    for x, y in zip(X_validation, Y_validation):\n",
    "        x = x.reshape(-1, 1).T\n",
    "\n",
    "        output = model.forward(x)\n",
    "\n",
    "        validation_accuracies.append(accuracy(output, y))\n",
    "        validation_losses.append(RMSD(output, y))\n",
    "\n",
    "    train_total_loss = np.mean(train_losses)\n",
    "    train_total_accuracy = np.mean(train_accuracies)\n",
    "\n",
    "    validation_total_loss = np.mean(validation_losses)\n",
    "    validation_total_accuracy = np.mean(validation_accuracies)\n",
    "\n",
    "    print(f'Epoch: {epoch + 1}')\n",
    "    print(f\"Train: Loss {train_total_loss}, Accuracy: {train_total_accuracy}\")\n",
    "    print(f\"Validation: Loss {validation_total_loss}, Accuracy: {validation_total_accuracy}\")\n",
    "\n",
    "    train_total_losses.append(train_total_loss)\n",
    "    train_total_accuracies.append(train_total_accuracy)\n",
    "    validation_total_losses.append(validation_total_loss)\n",
    "    validation_total_accuracies.append(validation_total_accuracy)"
   ],
   "metadata": {
    "collapsed": false,
    "ExecuteTime": {
     "end_time": "2025-02-06T13:32:27.476360Z",
     "start_time": "2025-02-06T13:32:08.600360500Z"
    }
   },
   "id": "218d2ff66bbb6f43",
   "execution_count": 3
  },
  {
   "cell_type": "code",
   "outputs": [
    {
     "name": "stdout",
     "output_type": "stream",
     "text": [
      "Test: Loss 0.06994357166926642, Accuracy: 0.8666666666666667\n"
     ]
    }
   ],
   "source": [
    "# Test\n",
    "test_losses = []\n",
    "test_accuracies = []\n",
    "\n",
    "for x, y in zip(X_test, Y_test):\n",
    "    x = x.reshape(-1, 1).T\n",
    "\n",
    "    output = model.forward(x)\n",
    "\n",
    "    test_accuracies.append(accuracy(output, y))\n",
    "    test_losses.append(RMSD(output, y))\n",
    "print(f\"Test: Loss {np.mean(test_losses)}, Accuracy: {np.mean(test_accuracies)}\")"
   ],
   "metadata": {
    "collapsed": false,
    "ExecuteTime": {
     "end_time": "2025-02-06T13:32:33.587956100Z",
     "start_time": "2025-02-06T13:32:33.528937500Z"
    }
   },
   "id": "11f31e8a55d2033a",
   "execution_count": 4
  },
  {
   "cell_type": "code",
   "outputs": [
    {
     "data": {
      "text/plain": "<Figure size 1500x500 with 2 Axes>",
      "image/png": "[encoded data removed]"
     },
     "metadata": {},
     "output_type": "display_data"
    }
   ],
   "source": [
    "fig, (ax_1, ax_2) = plt.subplots(1, 2, figsize=(15, 5))\n",
    "\n",
    "plt.title('MLP')\n",
    "\n",
    "ax_1.plot(train_total_losses, label='Train Loss')\n",
    "ax_1.plot(validation_total_losses, label='Validation Loss')\n",
    "ax_1.legend()\n",
    "ax_1.set_title(\"Losses\")\n",
    "ax_1.set_xlabel(\"Epochs\")\n",
    "ax_1.set_ylabel(\"Loss\")\n",
    "\n",
    "ax_2.plot(train_total_accuracies, label='Train Accuracy')\n",
    "ax_2.plot(validation_total_accuracies, label='Validation Accuracy')\n",
    "ax_2.legend()\n",
    "ax_2.set_title(\"Accuracies\")\n",
    "ax_2.set_xlabel(\"Epochs\")\n",
    "ax_2.set_ylabel(\"Accuracy\")\n",
    "\n",
    "plt.show()"
   ],
   "metadata": {
    "collapsed": false,
    "ExecuteTime": {
     "end_time": "2025-02-06T13:32:38.451495500Z",
     "start_time": "2025-02-06T13:32:38.157496200Z"
    }
   },
   "id": "9e697024c0d6afee",
   "execution_count": 5
  },
  {
   "cell_type": "code",
   "outputs": [],
   "source": [
    "import cv2 as cv\n",
    "\n",
    "\n",
    "def predict(file_name):\n",
    "    image = cv.imread(file_name)\n",
    "    image = cv.cvtColor(image, cv.COLOR_BGR2GRAY)\n",
    "    image = image.astype(np.float32)\n",
    "\n",
    "    x = image.reshape(-1, 1).T\n",
    "\n",
    "    output = model.forward(x)\n",
    "\n",
    "    return np.argmax(output)"
   ],
   "metadata": {
    "collapsed": false,
    "ExecuteTime": {
     "end_time": "2025-02-06T13:32:45.015787200Z",
     "start_time": "2025-02-06T13:32:44.923785600Z"
    }
   },
   "id": "821adf9e449c43c8",
   "execution_count": 6
  },
  {
   "cell_type": "code",
   "outputs": [
    {
     "name": "stdout",
     "output_type": "stream",
     "text": [
      "0\n",
      "4\n",
      "6\n"
     ]
    }
   ],
   "source": [
    "print(predict('inputs/0.png'))\n",
    "print(predict('inputs/4.png'))\n",
    "print(predict('inputs/6.png'))"
   ],
   "metadata": {
    "collapsed": false,
    "ExecuteTime": {
     "end_time": "2025-02-06T13:37:48.028100Z",
     "start_time": "2025-02-06T13:37:47.975099Z"
    }
   },
   "id": "a129f28ff5eac19e",
   "execution_count": 23
  }
 ],
 "metadata": {
  "kernelspec": {
   "display_name": "Python 3",
   "language": "python",
   "name": "python3"
  },
  "language_info": {
   "codemirror_mode": {
    "name": "ipython",
    "version": 2
   },
   "file_extension": ".py",
   "mimetype": "text/x-python",
   "name": "python",
   "nbconvert_exporter": "python",
   "pygments_lexer": "ipython2",
   "version": "2.7.6"
  }
 },
 "nbformat": 4,
 "nbformat_minor": 5
}
