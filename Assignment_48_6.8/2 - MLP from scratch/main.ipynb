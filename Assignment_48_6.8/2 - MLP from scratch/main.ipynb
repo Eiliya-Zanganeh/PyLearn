{
 "cells": [
  {
   "cell_type": "code",
   "execution_count": 5,
   "id": "initial_id",
   "metadata": {
    "collapsed": true,
    "ExecuteTime": {
     "end_time": "2025-02-06T12:40:55.601284900Z",
     "start_time": "2025-02-06T12:40:55.576251700Z"
    }
   },
   "outputs": [],
   "source": [
    "import matplotlib.pyplot as plt\n",
    "from sklearn.datasets import load_digits\n",
    "from sklearn.model_selection import train_test_split\n",
    "from sklearn.preprocessing import OneHotEncoder\n",
    "from MLP import *"
   ]
  },
  {
   "cell_type": "code",
   "outputs": [
    {
     "name": "stdout",
     "output_type": "stream",
     "text": [
      "Train: (1437, 64), (1437, 10)\n",
      "Validation: (90, 64), (90, 10)\n",
      "Test: (270, 64), (270, 10)\n"
     ]
    }
   ],
   "source": [
    "digits = load_digits()\n",
    "X = digits.data\n",
    "Y = digits.target\n",
    "Y = np.eye(10)[Y]\n",
    "\n",
    "# encoder = OneHotEncoder()\n",
    "# Y = encoder.fit_transform(Y)\n",
    "\n",
    "# decoded_data = encoder.inverse_transform(encoded_data)\n",
    "\n",
    "X_train, X_test, Y_train, Y_test = train_test_split(X, Y, test_size=0.2, random_state=42)\n",
    "X_test, X_validation, Y_test, Y_validation = train_test_split(X_test, Y_test, test_size=0.25, random_state=42)\n",
    "\n",
    "print(f'Train: {X_train.shape}, {Y_train.shape}')\n",
    "print(f'Validation: {X_validation.shape}, {Y_validation.shape}')\n",
    "print(f'Test: {X_test.shape}, {Y_test.shape}')"
   ],
   "metadata": {
    "collapsed": false,
    "ExecuteTime": {
     "end_time": "2025-02-06T12:40:55.945294700Z",
     "start_time": "2025-02-06T12:40:55.914796Z"
    }
   },
   "id": "63fa3f47e8279e13",
   "execution_count": 6
  },
  {
   "cell_type": "code",
   "outputs": [
    {
     "name": "stdout",
     "output_type": "stream",
     "text": [
      "Epoch: 1\n",
      "Train: Loss 0.29558551026971364, Accuracy: 0.2985386221294363\n",
      "Validation: Loss 0.25181681758123226, Accuracy: 0.43333333333333335\n",
      "Epoch: 2\n",
      "Train: Loss 0.20665158873707054, Accuracy: 0.5511482254697286\n",
      "Validation: Loss 0.19458727327269038, Accuracy: 0.5666666666666667\n",
      "Epoch: 3\n",
      "Train: Loss 0.15674683193789293, Accuracy: 0.6889352818371608\n",
      "Validation: Loss 0.16521777236732743, Accuracy: 0.6444444444444445\n",
      "Epoch: 4\n",
      "Train: Loss 0.12896061609135048, Accuracy: 0.7724425887265136\n",
      "Validation: Loss 0.15738022960295145, Accuracy: 0.6777777777777778\n",
      "Epoch: 5\n",
      "Train: Loss 0.1110537685686822, Accuracy: 0.8002783576896312\n",
      "Validation: Loss 0.14795920362609014, Accuracy: 0.6888888888888889\n",
      "Epoch: 6\n",
      "Train: Loss 0.09922006671547692, Accuracy: 0.8364648573416841\n",
      "Validation: Loss 0.1387764632382456, Accuracy: 0.7111111111111111\n",
      "Epoch: 7\n",
      "Train: Loss 0.08978997806081213, Accuracy: 0.8608211551844119\n",
      "Validation: Loss 0.13170031924567532, Accuracy: 0.7222222222222222\n",
      "Epoch: 8\n",
      "Train: Loss 0.0821138223089452, Accuracy: 0.8789144050104384\n",
      "Validation: Loss 0.12670526185980194, Accuracy: 0.7333333333333333\n",
      "Epoch: 9\n",
      "Train: Loss 0.07591058309683929, Accuracy: 0.8942240779401531\n",
      "Validation: Loss 0.12220354152976445, Accuracy: 0.7333333333333333\n",
      "Epoch: 10\n",
      "Train: Loss 0.07064674178299948, Accuracy: 0.9081419624217119\n",
      "Validation: Loss 0.11925835319374944, Accuracy: 0.7333333333333333\n",
      "Epoch: 11\n",
      "Train: Loss 0.06594900708798401, Accuracy: 0.9144050104384134\n",
      "Validation: Loss 0.11663052164938234, Accuracy: 0.7444444444444445\n",
      "Epoch: 12\n",
      "Train: Loss 0.06193802167410109, Accuracy: 0.9213639526791928\n",
      "Validation: Loss 0.11468805533048189, Accuracy: 0.7444444444444445\n",
      "Epoch: 13\n",
      "Train: Loss 0.058332877348376944, Accuracy: 0.9324982602644398\n",
      "Validation: Loss 0.11245384832031231, Accuracy: 0.7444444444444445\n",
      "Epoch: 14\n",
      "Train: Loss 0.055179054658301634, Accuracy: 0.941544885177453\n",
      "Validation: Loss 0.11004134053540028, Accuracy: 0.7555555555555555\n",
      "Epoch: 15\n",
      "Train: Loss 0.05233044581349298, Accuracy: 0.9457202505219207\n",
      "Validation: Loss 0.10788502056166285, Accuracy: 0.7555555555555555\n",
      "Epoch: 16\n",
      "Train: Loss 0.04974932979947102, Accuracy: 0.9526791927627001\n",
      "Validation: Loss 0.10616954040936244, Accuracy: 0.7666666666666667\n",
      "Epoch: 17\n",
      "Train: Loss 0.04742230439692692, Accuracy: 0.9554627696590118\n",
      "Validation: Loss 0.10481469488958796, Accuracy: 0.7666666666666667\n",
      "Epoch: 18\n",
      "Train: Loss 0.04528024875856909, Accuracy: 0.9589422407794015\n",
      "Validation: Loss 0.1036325963575889, Accuracy: 0.7888888888888889\n",
      "Epoch: 19\n",
      "Train: Loss 0.04328303830916918, Accuracy: 0.9638135003479471\n",
      "Validation: Loss 0.10255454573344672, Accuracy: 0.7888888888888889\n",
      "Epoch: 20\n",
      "Train: Loss 0.0414388020517677, Accuracy: 0.9693806541405706\n",
      "Validation: Loss 0.10154625055837625, Accuracy: 0.8\n",
      "Epoch: 21\n",
      "Train: Loss 0.039776171679589654, Accuracy: 0.9700765483646486\n",
      "Validation: Loss 0.10068842769968306, Accuracy: 0.8\n",
      "Epoch: 22\n",
      "Train: Loss 0.03827259606734101, Accuracy: 0.9728601252609603\n",
      "Validation: Loss 0.09992151480562321, Accuracy: 0.7888888888888889\n",
      "Epoch: 23\n",
      "Train: Loss 0.036898909498387096, Accuracy: 0.9735560194850382\n",
      "Validation: Loss 0.09915997437249473, Accuracy: 0.7888888888888889\n",
      "Epoch: 24\n",
      "Train: Loss 0.03561817109054191, Accuracy: 0.9742519137091162\n",
      "Validation: Loss 0.09840965328342553, Accuracy: 0.7888888888888889\n",
      "Epoch: 25\n",
      "Train: Loss 0.03439420935833315, Accuracy: 0.9756437021572721\n",
      "Validation: Loss 0.09768513407356315, Accuracy: 0.7888888888888889\n",
      "Epoch: 26\n",
      "Train: Loss 0.033218205677291, Accuracy: 0.9784272790535838\n",
      "Validation: Loss 0.09697161874162734, Accuracy: 0.7888888888888889\n",
      "Epoch: 27\n",
      "Train: Loss 0.03210991342630313, Accuracy: 0.9798190675017397\n",
      "Validation: Loss 0.09628144428776526, Accuracy: 0.8\n",
      "Epoch: 28\n",
      "Train: Loss 0.031075728897154754, Accuracy: 0.9819067501739736\n",
      "Validation: Loss 0.09561489960680536, Accuracy: 0.7888888888888889\n",
      "Epoch: 29\n",
      "Train: Loss 0.03011311593857954, Accuracy: 0.9819067501739736\n",
      "Validation: Loss 0.09493519385604596, Accuracy: 0.8\n",
      "Epoch: 30\n",
      "Train: Loss 0.029212859167105823, Accuracy: 0.9839944328462074\n",
      "Validation: Loss 0.09423527472289987, Accuracy: 0.8\n",
      "Epoch: 31\n",
      "Train: Loss 0.02836649582195611, Accuracy: 0.9860821155184412\n",
      "Validation: Loss 0.0935307207107985, Accuracy: 0.8\n",
      "Epoch: 32\n",
      "Train: Loss 0.02756705325974067, Accuracy: 0.9874739039665971\n",
      "Validation: Loss 0.09283450216757806, Accuracy: 0.8\n",
      "Epoch: 33\n",
      "Train: Loss 0.026808841418387512, Accuracy: 0.9874739039665971\n",
      "Validation: Loss 0.09214635220070312, Accuracy: 0.8\n",
      "Epoch: 34\n",
      "Train: Loss 0.026087189881000474, Accuracy: 0.988169798190675\n",
      "Validation: Loss 0.09145444706593456, Accuracy: 0.8\n",
      "Epoch: 35\n",
      "Train: Loss 0.025398037425663003, Accuracy: 0.9895615866388309\n",
      "Validation: Loss 0.0907381271800934, Accuracy: 0.8\n",
      "Epoch: 36\n",
      "Train: Loss 0.024740436827579468, Accuracy: 0.9902574808629089\n",
      "Validation: Loss 0.08996044831382832, Accuracy: 0.8111111111111111\n",
      "Epoch: 37\n",
      "Train: Loss 0.024120677581950467, Accuracy: 0.9909533750869868\n",
      "Validation: Loss 0.08909418170279161, Accuracy: 0.8111111111111111\n",
      "Epoch: 38\n",
      "Train: Loss 0.023538896595116914, Accuracy: 0.9916492693110647\n",
      "Validation: Loss 0.08832075386778164, Accuracy: 0.8111111111111111\n",
      "Epoch: 39\n",
      "Train: Loss 0.02297098992045742, Accuracy: 0.9923451635351427\n",
      "Validation: Loss 0.08801557532064491, Accuracy: 0.8111111111111111\n",
      "Epoch: 40\n",
      "Train: Loss 0.02239399957109348, Accuracy: 0.9923451635351427\n",
      "Validation: Loss 0.08771483207806757, Accuracy: 0.8111111111111111\n",
      "Epoch: 41\n",
      "Train: Loss 0.0218555177287323, Accuracy: 0.9930410577592206\n",
      "Validation: Loss 0.08742265685117133, Accuracy: 0.8\n",
      "Epoch: 42\n",
      "Train: Loss 0.021352270972975526, Accuracy: 0.9937369519832986\n",
      "Validation: Loss 0.08703118974392246, Accuracy: 0.8\n",
      "Epoch: 43\n",
      "Train: Loss 0.020882213480728353, Accuracy: 0.9951287404314544\n",
      "Validation: Loss 0.08662696395837655, Accuracy: 0.8\n",
      "Epoch: 44\n",
      "Train: Loss 0.02043563577800027, Accuracy: 0.9951287404314544\n",
      "Validation: Loss 0.08620459680245493, Accuracy: 0.8\n",
      "Epoch: 45\n",
      "Train: Loss 0.020010452074626425, Accuracy: 0.9951287404314544\n",
      "Validation: Loss 0.08579108917318289, Accuracy: 0.8\n",
      "Epoch: 46\n",
      "Train: Loss 0.019602870088322285, Accuracy: 0.9951287404314544\n",
      "Validation: Loss 0.08537955828213174, Accuracy: 0.8\n",
      "Epoch: 47\n",
      "Train: Loss 0.01921218957613295, Accuracy: 0.9951287404314544\n",
      "Validation: Loss 0.08497947671511659, Accuracy: 0.8111111111111111\n",
      "Epoch: 48\n",
      "Train: Loss 0.01883684533304687, Accuracy: 0.9951287404314544\n",
      "Validation: Loss 0.08458798450866475, Accuracy: 0.8111111111111111\n",
      "Epoch: 49\n",
      "Train: Loss 0.01847638629486106, Accuracy: 0.9951287404314544\n",
      "Validation: Loss 0.08420924889412466, Accuracy: 0.8111111111111111\n",
      "Epoch: 50\n",
      "Train: Loss 0.01812963982030111, Accuracy: 0.9951287404314544\n",
      "Validation: Loss 0.0838418949472025, Accuracy: 0.8111111111111111\n"
     ]
    }
   ],
   "source": [
    "model = MultiLayerPerceptron(64, 10, .001)\n",
    "\n",
    "epochs = 50\n",
    "\n",
    "train_total_losses = []\n",
    "train_total_accuracies = []\n",
    "validation_total_losses = []\n",
    "validation_total_accuracies = []\n",
    "\n",
    "for epoch in range(epochs):\n",
    "\n",
    "    train_losses = []\n",
    "    train_accuracies = []\n",
    "\n",
    "    validation_losses = []\n",
    "    validation_accuracies = []\n",
    "\n",
    "    # Train\n",
    "    for x, y in zip(X_train, Y_train):\n",
    "        x = x.reshape(-1, 1).T\n",
    "\n",
    "        output = model.forward(x)\n",
    "\n",
    "        model.backward(x, y, output)\n",
    "\n",
    "        model.update()\n",
    "\n",
    "        train_accuracies.append(accuracy(output, y))\n",
    "        train_losses.append(RMSD(output, y))\n",
    "\n",
    "    # Validation\n",
    "    for x, y in zip(X_validation, Y_validation):\n",
    "        x = x.reshape(-1, 1).T\n",
    "\n",
    "        output = model.forward(x)\n",
    "\n",
    "        validation_accuracies.append(accuracy(output, y))\n",
    "        validation_losses.append(RMSD(output, y))\n",
    "\n",
    "    train_total_loss = np.mean(train_losses)\n",
    "    train_total_accuracy = np.mean(train_accuracies)\n",
    "\n",
    "    validation_total_loss = np.mean(validation_losses)\n",
    "    validation_total_accuracy = np.mean(validation_accuracies)\n",
    "\n",
    "    print(f'Epoch: {epoch + 1}')\n",
    "    print(f\"Train: Loss {train_total_loss}, Accuracy: {train_total_accuracy}\")\n",
    "    print(f\"Validation: Loss {validation_total_loss}, Accuracy: {validation_total_accuracy}\")\n",
    "\n",
    "    train_total_losses.append(train_total_loss)\n",
    "    train_total_accuracies.append(train_total_accuracy)\n",
    "    validation_total_losses.append(validation_total_loss)\n",
    "    validation_total_accuracies.append(validation_total_accuracy)"
   ],
   "metadata": {
    "collapsed": false,
    "ExecuteTime": {
     "end_time": "2025-02-06T12:41:39.486186700Z",
     "start_time": "2025-02-06T12:41:23.023747700Z"
    }
   },
   "id": "218d2ff66bbb6f43",
   "execution_count": 8
  },
  {
   "cell_type": "code",
   "outputs": [
    {
     "name": "stdout",
     "output_type": "stream",
     "text": [
      "Test: Loss 0.07259728231787792, Accuracy: 0.8666666666666667\n"
     ]
    }
   ],
   "source": [
    "# Test\n",
    "test_losses = []\n",
    "test_accuracies = []\n",
    "\n",
    "for x, y in zip(X_test, Y_test):\n",
    "    x = x.reshape(-1, 1).T\n",
    "\n",
    "    output = model.forward(x)\n",
    "\n",
    "    test_accuracies.append(accuracy(output, y))\n",
    "    test_losses.append(RMSD(output, y))\n",
    "print(f\"Test: Loss {np.mean(test_losses)}, Accuracy: {np.mean(test_accuracies)}\")"
   ],
   "metadata": {
    "collapsed": false,
    "ExecuteTime": {
     "end_time": "2025-02-06T12:41:44.430457100Z",
     "start_time": "2025-02-06T12:41:44.379373400Z"
    }
   },
   "id": "11f31e8a55d2033a",
   "execution_count": 9
  },
  {
   "cell_type": "code",
   "outputs": [
    {
     "data": {
      "text/plain": "<Figure size 1500x500 with 2 Axes>",
      "image/png": "[encoded data removed]"
     },
     "metadata": {},
     "output_type": "display_data"
    }
   ],
   "source": [
    "fig, (ax_1, ax_2) = plt.subplots(1, 2, figsize=(15, 5))\n",
    "\n",
    "plt.title('MNIST with MLP')\n",
    "\n",
    "ax_1.plot(train_total_losses, label='Train Accuracy')\n",
    "ax_1.plot(validation_total_losses, label='Validation Accuracy')\n",
    "ax_1.legend()\n",
    "ax_1.set_title(\"Losses\")\n",
    "ax_1.set_xlabel(\"Epochs\")\n",
    "ax_1.set_ylabel(\"Loss\")\n",
    "\n",
    "ax_2.plot(train_total_accuracies, label='Train Accuracy')\n",
    "ax_2.plot(validation_total_accuracies, label='Validation Accuracy')\n",
    "ax_2.legend()\n",
    "ax_2.set_title(\"Accuracies\")\n",
    "ax_2.set_xlabel(\"Epochs\")\n",
    "ax_2.set_ylabel(\"Accuracy\")\n",
    "\n",
    "plt.show()"
   ],
   "metadata": {
    "collapsed": false,
    "ExecuteTime": {
     "end_time": "2025-02-06T12:45:44.335286Z",
     "start_time": "2025-02-06T12:45:44.157516800Z"
    }
   },
   "id": "9e697024c0d6afee",
   "execution_count": 13
  },
  {
   "cell_type": "code",
   "outputs": [],
   "source": [
    "import cv2 as cv\n",
    "\n",
    "\n",
    "def predict(file_name):\n",
    "    image = cv.imread(file_name)\n",
    "    image = cv.cvtColor(image, cv.COLOR_BGR2GRAY)\n",
    "    image = image.astype(np.float32)\n",
    "\n",
    "    x = image.reshape(-1, 1).T\n",
    "\n",
    "    output = model.forward(x)\n",
    "\n",
    "    return np.argmax(output)"
   ],
   "metadata": {
    "collapsed": false,
    "ExecuteTime": {
     "end_time": "2025-02-06T12:55:13.462412200Z",
     "start_time": "2025-02-06T12:55:13.212072400Z"
    }
   },
   "id": "821adf9e449c43c8",
   "execution_count": 14
  },
  {
   "cell_type": "code",
   "outputs": [
    {
     "name": "stdout",
     "output_type": "stream",
     "text": [
      "4\n",
      "7\n",
      "2\n"
     ]
    }
   ],
   "source": [
    "print(predict('inputs/5.png'))\n",
    "print(predict('inputs/7.png'))\n",
    "print(predict('inputs/2.png'))"
   ],
   "metadata": {
    "collapsed": false,
    "ExecuteTime": {
     "end_time": "2025-02-06T12:57:53.826250800Z",
     "start_time": "2025-02-06T12:57:53.808253700Z"
    }
   },
   "id": "a129f28ff5eac19e",
   "execution_count": 17
  }
 ],
 "metadata": {
  "kernelspec": {
   "display_name": "Python 3",
   "language": "python",
   "name": "python3"
  },
  "language_info": {
   "codemirror_mode": {
    "name": "ipython",
    "version": 2
   },
   "file_extension": ".py",
   "mimetype": "text/x-python",
   "name": "python",
   "nbconvert_exporter": "python",
   "pygments_lexer": "ipython2",
   "version": "2.7.6"
  }
 },
 "nbformat": 4,
 "nbformat_minor": 5
}
