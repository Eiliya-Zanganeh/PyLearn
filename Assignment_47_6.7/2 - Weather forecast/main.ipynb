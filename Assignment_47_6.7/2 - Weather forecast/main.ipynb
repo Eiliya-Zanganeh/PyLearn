{
 "cells": [
  {
   "cell_type": "markdown",
   "source": [
    "# 1. Import dependents"
   ],
   "metadata": {
    "collapsed": false
   },
   "id": "f8539189bd2d106e"
  },
  {
   "cell_type": "code",
   "execution_count": 1,
   "id": "initial_id",
   "metadata": {
    "collapsed": true,
    "ExecuteTime": {
     "end_time": "2025-02-05T09:24:10.471921300Z",
     "start_time": "2025-02-05T09:24:09.281781700Z"
    }
   },
   "outputs": [],
   "source": [
    "import pandas as pd\n",
    "from sklearn.model_selection import train_test_split\n",
    "import matplotlib.pyplot as plt\n",
    "from datetime import datetime\n",
    "from perceptron import Perceptron"
   ]
  },
  {
   "cell_type": "markdown",
   "source": [
    "# 2. Load data and preprocessing data"
   ],
   "metadata": {
    "collapsed": false
   },
   "id": "158f67922f67119d"
  },
  {
   "cell_type": "code",
   "outputs": [
    {
     "data": {
      "text/plain": "                  Formatted Date        Summary Precip Type  Temperature (C)  \\\n0  2006-04-01 00:00:00.000 +0200  Partly Cloudy        rain         9.472222   \n1  2006-04-01 01:00:00.000 +0200  Partly Cloudy        rain         9.355556   \n2  2006-04-01 02:00:00.000 +0200  Mostly Cloudy        rain         9.377778   \n3  2006-04-01 03:00:00.000 +0200  Partly Cloudy        rain         8.288889   \n4  2006-04-01 04:00:00.000 +0200  Mostly Cloudy        rain         8.755556   \n\n   Apparent Temperature (C)  Humidity  Wind Speed (km/h)  \\\n0                  7.388889      0.89            14.1197   \n1                  7.227778      0.86            14.2646   \n2                  9.377778      0.89             3.9284   \n3                  5.944444      0.83            14.1036   \n4                  6.977778      0.83            11.0446   \n\n   Wind Bearing (degrees)  Visibility (km)  Loud Cover  Pressure (millibars)  \\\n0                   251.0          15.8263         0.0               1015.13   \n1                   259.0          15.8263         0.0               1015.63   \n2                   204.0          14.9569         0.0               1015.94   \n3                   269.0          15.8263         0.0               1016.41   \n4                   259.0          15.8263         0.0               1016.51   \n\n                       Daily Summary  \n0  Partly cloudy throughout the day.  \n1  Partly cloudy throughout the day.  \n2  Partly cloudy throughout the day.  \n3  Partly cloudy throughout the day.  \n4  Partly cloudy throughout the day.  ",
      "text/html": "<div>\n<style scoped>\n    .dataframe tbody tr th:only-of-type {\n        vertical-align: middle;\n    }\n\n    .dataframe tbody tr th {\n        vertical-align: top;\n    }\n\n    .dataframe thead th {\n        text-align: right;\n    }\n</style>\n<table border=\"1\" class=\"dataframe\">\n  <thead>\n    <tr style=\"text-align: right;\">\n      <th></th>\n      <th>Formatted Date</th>\n      <th>Summary</th>\n      <th>Precip Type</th>\n      <th>Temperature (C)</th>\n      <th>Apparent Temperature (C)</th>\n      <th>Humidity</th>\n      <th>Wind Speed (km/h)</th>\n      <th>Wind Bearing (degrees)</th>\n      <th>Visibility (km)</th>\n      <th>Loud Cover</th>\n      <th>Pressure (millibars)</th>\n      <th>Daily Summary</th>\n    </tr>\n  </thead>\n  <tbody>\n    <tr>\n      <th>0</th>\n      <td>2006-04-01 00:00:00.000 +0200</td>\n      <td>Partly Cloudy</td>\n      <td>rain</td>\n      <td>9.472222</td>\n      <td>7.388889</td>\n      <td>0.89</td>\n      <td>14.1197</td>\n      <td>251.0</td>\n      <td>15.8263</td>\n      <td>0.0</td>\n      <td>1015.13</td>\n      <td>Partly cloudy throughout the day.</td>\n    </tr>\n    <tr>\n      <th>1</th>\n      <td>2006-04-01 01:00:00.000 +0200</td>\n      <td>Partly Cloudy</td>\n      <td>rain</td>\n      <td>9.355556</td>\n      <td>7.227778</td>\n      <td>0.86</td>\n      <td>14.2646</td>\n      <td>259.0</td>\n      <td>15.8263</td>\n      <td>0.0</td>\n      <td>1015.63</td>\n      <td>Partly cloudy throughout the day.</td>\n    </tr>\n    <tr>\n      <th>2</th>\n      <td>2006-04-01 02:00:00.000 +0200</td>\n      <td>Mostly Cloudy</td>\n      <td>rain</td>\n      <td>9.377778</td>\n      <td>9.377778</td>\n      <td>0.89</td>\n      <td>3.9284</td>\n      <td>204.0</td>\n      <td>14.9569</td>\n      <td>0.0</td>\n      <td>1015.94</td>\n      <td>Partly cloudy throughout the day.</td>\n    </tr>\n    <tr>\n      <th>3</th>\n      <td>2006-04-01 03:00:00.000 +0200</td>\n      <td>Partly Cloudy</td>\n      <td>rain</td>\n      <td>8.288889</td>\n      <td>5.944444</td>\n      <td>0.83</td>\n      <td>14.1036</td>\n      <td>269.0</td>\n      <td>15.8263</td>\n      <td>0.0</td>\n      <td>1016.41</td>\n      <td>Partly cloudy throughout the day.</td>\n    </tr>\n    <tr>\n      <th>4</th>\n      <td>2006-04-01 04:00:00.000 +0200</td>\n      <td>Mostly Cloudy</td>\n      <td>rain</td>\n      <td>8.755556</td>\n      <td>6.977778</td>\n      <td>0.83</td>\n      <td>11.0446</td>\n      <td>259.0</td>\n      <td>15.8263</td>\n      <td>0.0</td>\n      <td>1016.51</td>\n      <td>Partly cloudy throughout the day.</td>\n    </tr>\n  </tbody>\n</table>\n</div>"
     },
     "execution_count": 2,
     "metadata": {},
     "output_type": "execute_result"
    }
   ],
   "source": [
    "df = pd.read_csv('weatherHistory.csv')\n",
    "df.head()"
   ],
   "metadata": {
    "collapsed": false,
    "ExecuteTime": {
     "end_time": "2025-02-05T09:24:10.666065700Z",
     "start_time": "2025-02-05T09:24:10.473920Z"
    }
   },
   "id": "92781314bd477bf2",
   "execution_count": 2
  },
  {
   "cell_type": "code",
   "outputs": [
    {
     "name": "stdout",
     "output_type": "stream",
     "text": [
      "Formatted Date                0\n",
      "Summary                       0\n",
      "Precip Type                 517\n",
      "Temperature (C)               0\n",
      "Apparent Temperature (C)      0\n",
      "Humidity                      0\n",
      "Wind Speed (km/h)             0\n",
      "Wind Bearing (degrees)        0\n",
      "Visibility (km)               0\n",
      "Loud Cover                    0\n",
      "Pressure (millibars)          0\n",
      "Daily Summary                 0\n",
      "dtype: int64\n",
      "Formatted Date                0\n",
      "Summary                       0\n",
      "Precip Type                 517\n",
      "Temperature (C)               0\n",
      "Apparent Temperature (C)      0\n",
      "Humidity                      0\n",
      "Wind Speed (km/h)             0\n",
      "Wind Bearing (degrees)        0\n",
      "Visibility (km)               0\n",
      "Loud Cover                    0\n",
      "Pressure (millibars)          0\n",
      "Daily Summary                 0\n",
      "dtype: int64\n"
     ]
    }
   ],
   "source": [
    "print(df.isna().sum())\n",
    "print(df.isnull().sum())"
   ],
   "metadata": {
    "collapsed": false,
    "ExecuteTime": {
     "end_time": "2025-02-05T09:24:10.779609200Z",
     "start_time": "2025-02-05T09:24:10.665067600Z"
    }
   },
   "id": "ed53749ba17a6ddc",
   "execution_count": 3
  },
  {
   "cell_type": "code",
   "outputs": [
    {
     "data": {
      "text/plain": "   Formatted Date        Summary Precip Type  Temperature (C)  \\\n0              91  Partly Cloudy        rain         9.472222   \n1              91  Partly Cloudy        rain         9.355556   \n2              91  Mostly Cloudy        rain         9.377778   \n3              91  Partly Cloudy        rain         8.288889   \n4              91  Mostly Cloudy        rain         8.755556   \n\n   Apparent Temperature (C)  Humidity  Wind Speed (km/h)  \\\n0                  7.388889      0.89            14.1197   \n1                  7.227778      0.86            14.2646   \n2                  9.377778      0.89             3.9284   \n3                  5.944444      0.83            14.1036   \n4                  6.977778      0.83            11.0446   \n\n   Wind Bearing (degrees)  Visibility (km)  Loud Cover  Pressure (millibars)  \\\n0                   251.0          15.8263         0.0               1015.13   \n1                   259.0          15.8263         0.0               1015.63   \n2                   204.0          14.9569         0.0               1015.94   \n3                   269.0          15.8263         0.0               1016.41   \n4                   259.0          15.8263         0.0               1016.51   \n\n                       Daily Summary  \n0  Partly cloudy throughout the day.  \n1  Partly cloudy throughout the day.  \n2  Partly cloudy throughout the day.  \n3  Partly cloudy throughout the day.  \n4  Partly cloudy throughout the day.  ",
      "text/html": "<div>\n<style scoped>\n    .dataframe tbody tr th:only-of-type {\n        vertical-align: middle;\n    }\n\n    .dataframe tbody tr th {\n        vertical-align: top;\n    }\n\n    .dataframe thead th {\n        text-align: right;\n    }\n</style>\n<table border=\"1\" class=\"dataframe\">\n  <thead>\n    <tr style=\"text-align: right;\">\n      <th></th>\n      <th>Formatted Date</th>\n      <th>Summary</th>\n      <th>Precip Type</th>\n      <th>Temperature (C)</th>\n      <th>Apparent Temperature (C)</th>\n      <th>Humidity</th>\n      <th>Wind Speed (km/h)</th>\n      <th>Wind Bearing (degrees)</th>\n      <th>Visibility (km)</th>\n      <th>Loud Cover</th>\n      <th>Pressure (millibars)</th>\n      <th>Daily Summary</th>\n    </tr>\n  </thead>\n  <tbody>\n    <tr>\n      <th>0</th>\n      <td>91</td>\n      <td>Partly Cloudy</td>\n      <td>rain</td>\n      <td>9.472222</td>\n      <td>7.388889</td>\n      <td>0.89</td>\n      <td>14.1197</td>\n      <td>251.0</td>\n      <td>15.8263</td>\n      <td>0.0</td>\n      <td>1015.13</td>\n      <td>Partly cloudy throughout the day.</td>\n    </tr>\n    <tr>\n      <th>1</th>\n      <td>91</td>\n      <td>Partly Cloudy</td>\n      <td>rain</td>\n      <td>9.355556</td>\n      <td>7.227778</td>\n      <td>0.86</td>\n      <td>14.2646</td>\n      <td>259.0</td>\n      <td>15.8263</td>\n      <td>0.0</td>\n      <td>1015.63</td>\n      <td>Partly cloudy throughout the day.</td>\n    </tr>\n    <tr>\n      <th>2</th>\n      <td>91</td>\n      <td>Mostly Cloudy</td>\n      <td>rain</td>\n      <td>9.377778</td>\n      <td>9.377778</td>\n      <td>0.89</td>\n      <td>3.9284</td>\n      <td>204.0</td>\n      <td>14.9569</td>\n      <td>0.0</td>\n      <td>1015.94</td>\n      <td>Partly cloudy throughout the day.</td>\n    </tr>\n    <tr>\n      <th>3</th>\n      <td>91</td>\n      <td>Partly Cloudy</td>\n      <td>rain</td>\n      <td>8.288889</td>\n      <td>5.944444</td>\n      <td>0.83</td>\n      <td>14.1036</td>\n      <td>269.0</td>\n      <td>15.8263</td>\n      <td>0.0</td>\n      <td>1016.41</td>\n      <td>Partly cloudy throughout the day.</td>\n    </tr>\n    <tr>\n      <th>4</th>\n      <td>91</td>\n      <td>Mostly Cloudy</td>\n      <td>rain</td>\n      <td>8.755556</td>\n      <td>6.977778</td>\n      <td>0.83</td>\n      <td>11.0446</td>\n      <td>259.0</td>\n      <td>15.8263</td>\n      <td>0.0</td>\n      <td>1016.51</td>\n      <td>Partly cloudy throughout the day.</td>\n    </tr>\n  </tbody>\n</table>\n</div>"
     },
     "execution_count": 4,
     "metadata": {},
     "output_type": "execute_result"
    }
   ],
   "source": [
    "def day_of_year(date_str, date_format=\"%Y-%m-%d\"):\n",
    "    date_str = date_str.split(' ')[0]\n",
    "    date_obj = datetime.strptime(date_str, date_format)\n",
    "    return date_obj.timetuple().tm_yday\n",
    "\n",
    "df['Formatted Date'] = df['Formatted Date'].apply(day_of_year)\n",
    "df.head()"
   ],
   "metadata": {
    "collapsed": false,
    "ExecuteTime": {
     "end_time": "2025-02-05T09:24:11.418609300Z",
     "start_time": "2025-02-05T09:24:10.698162500Z"
    }
   },
   "id": "f3b9464ea2b0c1a4",
   "execution_count": 4
  },
  {
   "cell_type": "code",
   "outputs": [],
   "source": [
    "df = df.groupby('Formatted Date', as_index=False)['Temperature (C)'].mean()\n",
    "df['Formatted Date'] = df['Formatted Date'] / 366"
   ],
   "metadata": {
    "collapsed": false,
    "ExecuteTime": {
     "end_time": "2025-02-05T09:24:11.444580700Z",
     "start_time": "2025-02-05T09:24:11.407581300Z"
    }
   },
   "id": "a8d1c8ab9facf4db",
   "execution_count": 5
  },
  {
   "cell_type": "code",
   "outputs": [],
   "source": [
    "X = df['Formatted Date'].values\n",
    "Y = df['Temperature (C)'].values"
   ],
   "metadata": {
    "collapsed": false,
    "ExecuteTime": {
     "end_time": "2025-02-05T09:24:11.445581800Z",
     "start_time": "2025-02-05T09:24:11.421580900Z"
    }
   },
   "id": "cdc0be52d1f7ca2b",
   "execution_count": 6
  },
  {
   "cell_type": "code",
   "outputs": [
    {
     "data": {
      "text/plain": "<Figure size 640x480 with 1 Axes>",
      "image/png": "[encoded data removed]"
     },
     "metadata": {},
     "output_type": "display_data"
    }
   ],
   "source": [
    "plt.scatter(X, Y)\n",
    "plt.xlabel('Date')\n",
    "plt.ylabel('Temperature')\n",
    "plt.show()"
   ],
   "metadata": {
    "collapsed": false,
    "ExecuteTime": {
     "end_time": "2025-02-05T09:24:11.653511900Z",
     "start_time": "2025-02-05T09:24:11.441582700Z"
    }
   },
   "id": "5ce7614d75ee1aaf",
   "execution_count": 7
  },
  {
   "cell_type": "markdown",
   "source": [
    "# 3. Train, Test split"
   ],
   "metadata": {
    "collapsed": false
   },
   "id": "426f4f922bcddcb9"
  },
  {
   "cell_type": "code",
   "outputs": [
    {
     "name": "stdout",
     "output_type": "stream",
     "text": [
      "x_train: 292, y_train: 292\n",
      "x_validation: 19, y_validation: 19\n",
      "x_test: 55, y_test: 55\n"
     ]
    }
   ],
   "source": [
    "x_train, x_test, y_train, y_test = train_test_split(X, Y, test_size=.2, random_state=42)\n",
    "x_test, x_validation, y_test, y_validation = train_test_split(x_test, y_test, test_size=.25, random_state=42)\n",
    "\n",
    "x_train = x_train.reshape(-1, 1)\n",
    "x_validation = x_validation.reshape(-1, 1)\n",
    "x_test = x_test.reshape(-1, 1)\n",
    "\n",
    "print(f'x_train: {len(x_train)}, y_train: {len(y_train)}')\n",
    "print(f'x_validation: {len(x_validation)}, y_validation: {len(y_validation)}')\n",
    "print(f'x_test: {len(x_test)}, y_test: {len(y_test)}')"
   ],
   "metadata": {
    "collapsed": false,
    "ExecuteTime": {
     "end_time": "2025-02-05T09:24:11.716377600Z",
     "start_time": "2025-02-05T09:24:11.601532900Z"
    }
   },
   "id": "2b50a77441b50c65",
   "execution_count": 8
  },
  {
   "cell_type": "markdown",
   "source": [
    "# 4. Initial, train and evaluate model"
   ],
   "metadata": {
    "collapsed": false
   },
   "id": "5763d1c949d6d7af"
  },
  {
   "cell_type": "code",
   "outputs": [],
   "source": [
    "model = Perceptron(\n",
    "    learning_rate=.0001,\n",
    "    epochs=50,\n",
    "    num_features=1,\n",
    ")"
   ],
   "metadata": {
    "collapsed": false,
    "ExecuteTime": {
     "end_time": "2025-02-05T09:24:11.717356600Z",
     "start_time": "2025-02-05T09:24:11.614532200Z"
    }
   },
   "id": "5778037aa647bf3e",
   "execution_count": 9
  },
  {
   "cell_type": "code",
   "outputs": [
    {
     "name": "stdout",
     "output_type": "stream",
     "text": [
      "Epoch: 1\n",
      "Train Loss: 11.510417918504254, Train Accuracy: 0.0\n",
      "Validation Loss: 9.584671122882595, Validation Accuracy: 0\n",
      "Epoch: 2\n",
      "Train Loss: 11.16841217338672, Train Accuracy: 0.0\n",
      "Validation Loss: 9.341632152741335, Validation Accuracy: 0\n",
      "Epoch: 3\n",
      "Train Loss: 10.846897364325486, Train Accuracy: 0.0\n",
      "Validation Loss: 9.131437034723334, Validation Accuracy: 0\n",
      "Epoch: 4\n",
      "Train Loss: 10.54948915686356, Train Accuracy: 0.0\n",
      "Validation Loss: 8.940122186783412, Validation Accuracy: 0\n",
      "Epoch: 5\n",
      "Train Loss: 10.279323395216604, Train Accuracy: 0.0\n",
      "Validation Loss: 8.763130390008612, Validation Accuracy: 0\n",
      "Epoch: 6\n",
      "Train Loss: 10.024945034614753, Train Accuracy: 0.0\n",
      "Validation Loss: 8.610111334134915, Validation Accuracy: 0\n",
      "Epoch: 7\n",
      "Train Loss: 9.790759575164987, Train Accuracy: 0.0\n",
      "Validation Loss: 8.486007705736958, Validation Accuracy: 0\n",
      "Epoch: 8\n",
      "Train Loss: 9.584012641171423, Train Accuracy: 0.0\n",
      "Validation Loss: 8.383500816956516, Validation Accuracy: 0\n",
      "Epoch: 9\n",
      "Train Loss: 9.394068387197851, Train Accuracy: 0.0\n",
      "Validation Loss: 8.299999692515122, Validation Accuracy: 0\n",
      "Epoch: 10\n",
      "Train Loss: 9.217183569502945, Train Accuracy: 0.0\n",
      "Validation Loss: 8.22803437437067, Validation Accuracy: 0\n",
      "Epoch: 11\n",
      "Train Loss: 9.053812844713738, Train Accuracy: 0.0\n",
      "Validation Loss: 8.167949802114135, Validation Accuracy: 0\n",
      "Epoch: 12\n",
      "Train Loss: 8.900662644007785, Train Accuracy: 0.0\n",
      "Validation Loss: 8.119038101825465, Validation Accuracy: 0\n",
      "Epoch: 13\n",
      "Train Loss: 8.758382313516895, Train Accuracy: 0.0\n",
      "Validation Loss: 8.083495625472393, Validation Accuracy: 0\n",
      "Epoch: 14\n",
      "Train Loss: 8.624264184915823, Train Accuracy: 0.0\n",
      "Validation Loss: 8.056190467054172, Validation Accuracy: 0\n",
      "Epoch: 15\n",
      "Train Loss: 8.50089265903281, Train Accuracy: 0.0\n",
      "Validation Loss: 8.035870118032005, Validation Accuracy: 0\n",
      "Epoch: 16\n",
      "Train Loss: 8.388507114527828, Train Accuracy: 0.0\n",
      "Validation Loss: 8.020114784088529, Validation Accuracy: 0\n",
      "Epoch: 17\n",
      "Train Loss: 8.287166721893742, Train Accuracy: 0.0\n",
      "Validation Loss: 8.009293258479952, Validation Accuracy: 0\n",
      "Epoch: 18\n",
      "Train Loss: 8.195552200665212, Train Accuracy: 0.0\n",
      "Validation Loss: 8.00308113992514, Validation Accuracy: 0\n",
      "Epoch: 19\n",
      "Train Loss: 8.114054667286226, Train Accuracy: 0.0\n",
      "Validation Loss: 8.005878971264755, Validation Accuracy: 0\n",
      "Epoch: 20\n",
      "Train Loss: 8.035818667439596, Train Accuracy: 0.0\n",
      "Validation Loss: 8.012300661022985, Validation Accuracy: 0\n",
      "Epoch: 21\n",
      "Train Loss: 7.962690889426265, Train Accuracy: 0.0\n",
      "Validation Loss: 8.019353531079423, Validation Accuracy: 0\n",
      "Epoch: 22\n",
      "Train Loss: 7.89248651044165, Train Accuracy: 0.0\n",
      "Validation Loss: 8.028279008166296, Validation Accuracy: 0\n",
      "Epoch: 23\n",
      "Train Loss: 7.827114719515482, Train Accuracy: 0.0\n",
      "Validation Loss: 8.040256424926609, Validation Accuracy: 0\n",
      "Epoch: 24\n",
      "Train Loss: 7.766787371584548, Train Accuracy: 0.0\n",
      "Validation Loss: 8.054201621590499, Validation Accuracy: 0\n",
      "Epoch: 25\n",
      "Train Loss: 7.7107606154618455, Train Accuracy: 0.0\n",
      "Validation Loss: 8.069850854319059, Validation Accuracy: 0\n",
      "Epoch: 26\n",
      "Train Loss: 7.656778460716369, Train Accuracy: 0.0\n",
      "Validation Loss: 8.087949730042176, Validation Accuracy: 0\n",
      "Epoch: 27\n",
      "Train Loss: 7.606791173782482, Train Accuracy: 0.0\n",
      "Validation Loss: 8.1071251879233, Validation Accuracy: 0\n",
      "Epoch: 28\n",
      "Train Loss: 7.559109683644713, Train Accuracy: 0.0\n",
      "Validation Loss: 8.12591535306876, Validation Accuracy: 0\n",
      "Epoch: 29\n",
      "Train Loss: 7.513168159874654, Train Accuracy: 0.0\n",
      "Validation Loss: 8.144019179010554, Validation Accuracy: 0\n",
      "Epoch: 30\n",
      "Train Loss: 7.469248230024542, Train Accuracy: 0.0\n",
      "Validation Loss: 8.161936523802755, Validation Accuracy: 0\n",
      "Epoch: 31\n",
      "Train Loss: 7.430776922046256, Train Accuracy: 0.0\n",
      "Validation Loss: 8.179976960891965, Validation Accuracy: 0\n",
      "Epoch: 32\n",
      "Train Loss: 7.395337167956411, Train Accuracy: 0.0\n",
      "Validation Loss: 8.19810889918653, Validation Accuracy: 0\n",
      "Epoch: 33\n",
      "Train Loss: 7.36298312343466, Train Accuracy: 0.0\n",
      "Validation Loss: 8.215578804591074, Validation Accuracy: 0\n",
      "Epoch: 34\n",
      "Train Loss: 7.333213857121408, Train Accuracy: 0.0\n",
      "Validation Loss: 8.232410826370408, Validation Accuracy: 0\n",
      "Epoch: 35\n",
      "Train Loss: 7.30653658223563, Train Accuracy: 0.0\n",
      "Validation Loss: 8.249190924396164, Validation Accuracy: 0\n",
      "Epoch: 36\n",
      "Train Loss: 7.282696890357933, Train Accuracy: 0.0\n",
      "Validation Loss: 8.26592268172395, Validation Accuracy: 0\n",
      "Epoch: 37\n",
      "Train Loss: 7.261754581617636, Train Accuracy: 0.0\n",
      "Validation Loss: 8.282375595620367, Validation Accuracy: 0\n",
      "Epoch: 38\n",
      "Train Loss: 7.242155484861668, Train Accuracy: 0.0\n",
      "Validation Loss: 8.298505050362003, Validation Accuracy: 0\n",
      "Epoch: 39\n",
      "Train Loss: 7.224446705640939, Train Accuracy: 0.0\n",
      "Validation Loss: 8.314434498060246, Validation Accuracy: 0\n",
      "Epoch: 40\n",
      "Train Loss: 7.20762922188827, Train Accuracy: 0.0\n",
      "Validation Loss: 8.329782695811536, Validation Accuracy: 0\n",
      "Epoch: 41\n",
      "Train Loss: 7.191425309070448, Train Accuracy: 0.0\n",
      "Validation Loss: 8.344570845464768, Validation Accuracy: 0\n",
      "Epoch: 42\n",
      "Train Loss: 7.176736213898369, Train Accuracy: 0.0\n",
      "Validation Loss: 8.358819375517143, Validation Accuracy: 0\n",
      "Epoch: 43\n",
      "Train Loss: 7.163030551933215, Train Accuracy: 0.0\n",
      "Validation Loss: 8.372547969322687, Validation Accuracy: 0\n",
      "Epoch: 44\n",
      "Train Loss: 7.150395707794059, Train Accuracy: 0.0\n",
      "Validation Loss: 8.385775592271814, Validation Accuracy: 0\n",
      "Epoch: 45\n",
      "Train Loss: 7.138522778362666, Train Accuracy: 0.0\n",
      "Validation Loss: 8.398549080725617, Validation Accuracy: 0\n",
      "Epoch: 46\n",
      "Train Loss: 7.12728598023205, Train Accuracy: 0.0\n",
      "Validation Loss: 8.411177902813531, Validation Accuracy: 0\n",
      "Epoch: 47\n",
      "Train Loss: 7.117049751675979, Train Accuracy: 0.0\n",
      "Validation Loss: 8.423346025477723, Validation Accuracy: 0\n",
      "Epoch: 48\n",
      "Train Loss: 7.107191624632845, Train Accuracy: 0.0\n",
      "Validation Loss: 8.435070253123667, Validation Accuracy: 0\n",
      "Epoch: 49\n",
      "Train Loss: 7.097693155427131, Train Accuracy: 0.0\n",
      "Validation Loss: 8.446366777205217, Validation Accuracy: 0\n",
      "Epoch: 50\n",
      "Train Loss: 7.088541225171277, Train Accuracy: 0.0\n",
      "Validation Loss: 8.458029367843249, Validation Accuracy: 0\n",
      "Final Result:\n",
      "Train Loss: 8.171899237675593, Train Accuracy: 0.0\n",
      "Validation Loss: 8.314425745616843, Validation Accuracy: 0.0\n"
     ]
    }
   ],
   "source": [
    "model.train(x_train, y_train, x_validation, y_validation)"
   ],
   "metadata": {
    "collapsed": false,
    "ExecuteTime": {
     "end_time": "2025-02-05T09:24:11.991521300Z",
     "start_time": "2025-02-05T09:24:11.637532800Z"
    }
   },
   "id": "9205c9fd26aa508b",
   "execution_count": 10
  },
  {
   "cell_type": "code",
   "outputs": [
    {
     "data": {
      "text/plain": "<Figure size 640x480 with 1 Axes>",
      "image/png": "[encoded data removed]"
     },
     "metadata": {},
     "output_type": "display_data"
    }
   ],
   "source": [
    "plt.plot(model.train_losses, label='Train Loss')\n",
    "plt.plot(model.validation_losses, label='Validation Loss')\n",
    "plt.legend()\n",
    "plt.title(\"Loss\")\n",
    "plt.xlabel(\"Epochs\")\n",
    "plt.ylabel(\"loss\")\n",
    "plt.show()"
   ],
   "metadata": {
    "collapsed": false,
    "ExecuteTime": {
     "end_time": "2025-02-05T09:24:14.039503500Z",
     "start_time": "2025-02-05T09:24:13.946750100Z"
    }
   },
   "id": "25372d11e7afd1fc",
   "execution_count": 11
  },
  {
   "cell_type": "code",
   "outputs": [
    {
     "name": "stdout",
     "output_type": "stream",
     "text": [
      "Test Loss: 7.156560791396904\n"
     ]
    }
   ],
   "source": [
    "loss, _ = model.evaluate(x_test, y_test)\n",
    "print(f\"Test Loss: {loss}\")"
   ],
   "metadata": {
    "collapsed": false,
    "ExecuteTime": {
     "end_time": "2025-02-05T09:24:25.994820600Z",
     "start_time": "2025-02-05T09:24:25.973780300Z"
    }
   },
   "id": "a545da6449ea8a3d",
   "execution_count": 12
  },
  {
   "cell_type": "code",
   "outputs": [],
   "source": [
    "model.save('model')"
   ],
   "metadata": {
    "collapsed": false,
    "ExecuteTime": {
     "end_time": "2025-02-05T09:24:53.821241400Z",
     "start_time": "2025-02-05T09:24:53.800457700Z"
    }
   },
   "id": "c254b5bb338fa6c9",
   "execution_count": 13
  }
 ],
 "metadata": {
  "kernelspec": {
   "display_name": "Python 3",
   "language": "python",
   "name": "python3"
  },
  "language_info": {
   "codemirror_mode": {
    "name": "ipython",
    "version": 2
   },
   "file_extension": ".py",
   "mimetype": "text/x-python",
   "name": "python",
   "nbconvert_exporter": "python",
   "pygments_lexer": "ipython2",
   "version": "2.7.6"
  }
 },
 "nbformat": 4,
 "nbformat_minor": 5
}
