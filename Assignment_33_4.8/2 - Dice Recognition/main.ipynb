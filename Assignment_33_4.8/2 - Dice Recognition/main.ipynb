{
 "cells": [
  {
   "cell_type": "code",
   "execution_count": 6,
   "id": "initial_id",
   "metadata": {
    "collapsed": true,
    "ExecuteTime": {
     "end_time": "2025-01-17T19:18:32.147649500Z",
     "start_time": "2025-01-17T19:18:31.586472300Z"
    }
   },
   "outputs": [],
   "source": [
    "import cv2 as cv\n",
    "import matplotlib.pyplot as plt"
   ]
  },
  {
   "cell_type": "code",
   "outputs": [],
   "source": [
    "def dice_recognition(image, threshold, dice_size, point_size):\n",
    "    image = cv.threshold(image, threshold, 255, cv.THRESH_BINARY)[1]\n",
    "\n",
    "    # plt.imshow(image, cmap='Greys')\n",
    "\n",
    "    contours, hierarchy = cv.findContours(image, cv.RETR_TREE, cv.CHAIN_APPROX_SIMPLE)\n",
    "\n",
    "    dices = {}\n",
    "    for contour, contour_hierarchy in zip(contours, hierarchy[0]):\n",
    "        if cv.contourArea(contour) > dice_size:\n",
    "            # print(cv.contourArea(contour))\n",
    "            dices[contour_hierarchy[2] - 1] = 0\n",
    "        elif cv.contourArea(contour) > point_size:\n",
    "            # print(cv.contourArea(contour))\n",
    "            if contour_hierarchy[3] in dices.keys():\n",
    "                dices[contour_hierarchy[3]] += 1\n",
    "    dices = {key: value for key, value in dices.items() if value != 0}\n",
    "    for idx, value in enumerate(dices.values()):\n",
    "        print(f'Dice {idx + 1}: {value}')\n",
    "    return dices"
   ],
   "metadata": {
    "collapsed": false,
    "ExecuteTime": {
     "end_time": "2025-01-17T19:57:14.925239800Z",
     "start_time": "2025-01-17T19:57:14.904247500Z"
    }
   },
   "id": "29b3a656bdbd4014",
   "execution_count": 170
  },
  {
   "cell_type": "code",
   "outputs": [
    {
     "name": "stdout",
     "output_type": "stream",
     "text": [
      "Dice 1: 5\n",
      "Dice 2: 5\n",
      "Dice 3: 5\n",
      "Dice 4: 5\n",
      "Dice 5: 5\n"
     ]
    },
    {
     "data": {
      "text/plain": "{0: 5, 11: 5, 19: 5, 32: 5, 43: 5}"
     },
     "execution_count": 171,
     "metadata": {},
     "output_type": "execute_result"
    }
   ],
   "source": [
    "image_1 = cv.imread('inputs/img_1.png', cv.IMREAD_GRAYSCALE)\n",
    "dice_recognition(image_1, 220, 100, 40)"
   ],
   "metadata": {
    "collapsed": false,
    "ExecuteTime": {
     "end_time": "2025-01-17T19:57:15.141841200Z",
     "start_time": "2025-01-17T19:57:15.118090800Z"
    }
   },
   "id": "dfaa252ed831c68",
   "execution_count": 171
  },
  {
   "cell_type": "code",
   "outputs": [
    {
     "name": "stdout",
     "output_type": "stream",
     "text": [
      "Dice 1: 3\n",
      "Dice 2: 6\n",
      "Dice 3: 1\n"
     ]
    },
    {
     "data": {
      "text/plain": "{7: 3, 58: 6, 169: 1}"
     },
     "execution_count": 172,
     "metadata": {},
     "output_type": "execute_result"
    }
   ],
   "source": [
    "import numpy as np\n",
    "\n",
    "background = np.zeros((400, 400), dtype=np.uint8)\n",
    "mask = np.zeros((300, 300), dtype=np.uint8)\n",
    "\n",
    "img_2 = cv.imread('inputs/img_2.png', cv.IMREAD_GRAYSCALE)\n",
    "\n",
    "img_2 = mask + img_2\n",
    "\n",
    "background[50:350, 50:350] = img_2\n",
    "\n",
    "dice_recognition(background, 120, 10000, 140)"
   ],
   "metadata": {
    "collapsed": false,
    "ExecuteTime": {
     "end_time": "2025-01-17T19:57:15.325616300Z",
     "start_time": "2025-01-17T19:57:15.307618500Z"
    }
   },
   "id": "1f826a7f1ac5d45f",
   "execution_count": 172
  },
  {
   "cell_type": "code",
   "outputs": [
    {
     "name": "stdout",
     "output_type": "stream",
     "text": [
      "Dice 1: 5\n",
      "Dice 2: 1\n"
     ]
    },
    {
     "data": {
      "text/plain": "{0: 5, 11: 1}"
     },
     "execution_count": 173,
     "metadata": {},
     "output_type": "execute_result"
    }
   ],
   "source": [
    "img_3 = cv.imread('inputs/img_3.png', cv.IMREAD_GRAYSCALE)\n",
    "dice_recognition(img_3, 100, 1000, 40)"
   ],
   "metadata": {
    "collapsed": false,
    "ExecuteTime": {
     "end_time": "2025-01-17T19:57:15.646447Z",
     "start_time": "2025-01-17T19:57:15.623747200Z"
    }
   },
   "id": "7ce490018485ded8",
   "execution_count": 173
  },
  {
   "cell_type": "code",
   "outputs": [
    {
     "name": "stdout",
     "output_type": "stream",
     "text": [
      "Dice 1: 3\n"
     ]
    },
    {
     "data": {
      "text/plain": "{0: 3}"
     },
     "execution_count": 174,
     "metadata": {},
     "output_type": "execute_result"
    }
   ],
   "source": [
    "img_4 = cv.imread('inputs/img_4.png', cv.IMREAD_GRAYSCALE)\n",
    "dice_recognition(img_4, 80, 1000, 40)"
   ],
   "metadata": {
    "collapsed": false,
    "ExecuteTime": {
     "end_time": "2025-01-17T19:57:15.945617500Z",
     "start_time": "2025-01-17T19:57:15.920098700Z"
    }
   },
   "id": "deacf901fd04e089",
   "execution_count": 174
  }
 ],
 "metadata": {
  "kernelspec": {
   "display_name": "Python 3",
   "language": "python",
   "name": "python3"
  },
  "language_info": {
   "codemirror_mode": {
    "name": "ipython",
    "version": 2
   },
   "file_extension": ".py",
   "mimetype": "text/x-python",
   "name": "python",
   "nbconvert_exporter": "python",
   "pygments_lexer": "ipython2",
   "version": "2.7.6"
  }
 },
 "nbformat": 4,
 "nbformat_minor": 5
}
